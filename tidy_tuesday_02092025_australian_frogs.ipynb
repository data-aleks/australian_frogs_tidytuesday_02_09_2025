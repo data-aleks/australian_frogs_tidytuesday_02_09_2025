{
  "nbformat": 4,
  "nbformat_minor": 0,
  "metadata": {
    "colab": {
      "provenance": [],
      "authorship_tag": "ABX9TyOG3RoHL1uumG6kDc2R0cMK",
      "include_colab_link": true
    },
    "kernelspec": {
      "name": "python3",
      "display_name": "Python 3"
    },
    "language_info": {
      "name": "python"
    }
  },
  "cells": [
    {
      "cell_type": "markdown",
      "metadata": {
        "id": "view-in-github",
        "colab_type": "text"
      },
      "source": [
        "<a href=\"https://colab.research.google.com/github/data-aleks/australian_frogs_tidytuesday_02_09_2025/blob/main/tidy_tuesday_02092025_australian_frogs.ipynb\" target=\"_parent\"><img src=\"https://colab.research.google.com/assets/colab-badge.svg\" alt=\"Open In Colab\"/></a>"
      ]
    },
    {
      "cell_type": "code",
      "execution_count": 1,
      "metadata": {
        "id": "A378RvaJfNU9"
      },
      "outputs": [],
      "source": [
        "import pandas as pd\n",
        "import numpy as np"
      ]
    },
    {
      "cell_type": "markdown",
      "source": [
        "# **Australian Frogs**"
      ],
      "metadata": {
        "id": "BuhAR6QUiUKL"
      }
    },
    {
      "cell_type": "markdown",
      "source": [
        "This week we're exploring 2023 data from the sixth annual release of [FrogID](https://www.frogid.net.au/explore) data.\n",
        "\n",
        "FrogID is an Australian frog call identification initiative. The FrogID mobile app allows citizen scientists to record and submit frog calls for museum experts to identify. Since 2017, FrogID data has contributed to over 30 scientific papers exploring frog ecology, taxonomy, and conservation.\n",
        "\n",
        "Australia is home to a unique and diverse array of frog species found almost nowhere else on Earth, with 257 native species distributed throughout the continent. But Australia’s frogs are in peril – almost one in five species are threatened with extinction due to threats such as climate change, urbanisation, disease, and the spread of invasive species.\n",
        "\n",
        "Some questions you might explore:\n",
        "\n",
        "Are there species that are endemic to certain regions?\n",
        "Do different frog species have distinct calling seasons?\n",
        "Which species has the widest geographic range? Which is the rarest?\n",
        "Primary citation for FrogID data: Rowley JJL, & Callaghan CT (2020) The FrogID dataset: expert-validated occurrence records of Australia’s frogs collected by citizen scientists. ZooKeys 912: 139-151\n",
        "\n",
        "Official frog name data: Australian Society of Herpetologists Official List of Australian Species. 2025. http://www.australiansocietyofherpetologists.org/ash-official-list-of-australian-species.\n",
        "\n",
        "Thank you to Jessica Moore for curating this week's dataset."
      ],
      "metadata": {
        "id": "RfE1vUXYiYUs"
      }
    },
    {
      "cell_type": "markdown",
      "source": [
        "## **Loading data**"
      ],
      "metadata": {
        "id": "znAMc2pvijEn"
      }
    },
    {
      "cell_type": "code",
      "source": [
        "df_id = pd.read_csv(\"https://raw.githubusercontent.com/rfordatascience/tidytuesday/main/data/2025/2025-09-02/frogID_data.csv\")\n",
        "df_names = pd.read_csv(\"https://raw.githubusercontent.com/rfordatascience/tidytuesday/main/data/2025/2025-09-02/frog_names.csv\")"
      ],
      "metadata": {
        "id": "Jh5VD3ywhik1"
      },
      "execution_count": 2,
      "outputs": []
    },
    {
      "cell_type": "code",
      "source": [
        "if df_id.empty or df_names.empty:\n",
        "  print('Issue with data, check data links')\n",
        "else:\n",
        "  print('Data loaded succesfully')"
      ],
      "metadata": {
        "colab": {
          "base_uri": "https://localhost:8080/"
        },
        "id": "Yr6sRhmyhsE_",
        "outputId": "053c153b-2f48-49f8-ad8f-2f83c880045d"
      },
      "execution_count": 3,
      "outputs": [
        {
          "output_type": "stream",
          "name": "stdout",
          "text": [
            "Data loaded succesfully\n"
          ]
        }
      ]
    },
    {
      "cell_type": "markdown",
      "source": [
        "## **1. Exploring Data**"
      ],
      "metadata": {
        "id": "ah5Ve1v8iouR"
      }
    },
    {
      "cell_type": "markdown",
      "source": [
        "### **1.2 Exploring ID Data**"
      ],
      "metadata": {
        "id": "LCMc6u23iwai"
      }
    },
    {
      "cell_type": "markdown",
      "source": [
        "In this step we will look at our df_id data, to identify areas of potential improvement. Detect any duplicate or missing records. This will allow us to have a better idea of what cleaning tasks to perform in step 2."
      ],
      "metadata": {
        "id": "RYZiX8dzATEt"
      }
    },
    {
      "cell_type": "code",
      "source": [
        "df_id.info()"
      ],
      "metadata": {
        "colab": {
          "base_uri": "https://localhost:8080/"
        },
        "id": "kv7ZNLj6jPc0",
        "outputId": "aa8ee71b-1b96-40d2-ccb9-3f30a738d6a2"
      },
      "execution_count": 4,
      "outputs": [
        {
          "output_type": "stream",
          "name": "stdout",
          "text": [
            "<class 'pandas.core.frame.DataFrame'>\n",
            "RangeIndex: 136621 entries, 0 to 136620\n",
            "Data columns (total 11 columns):\n",
            " #   Column                         Non-Null Count   Dtype  \n",
            "---  ------                         --------------   -----  \n",
            " 0   occurrenceID                   136621 non-null  int64  \n",
            " 1   eventID                        136621 non-null  int64  \n",
            " 2   decimalLatitude                136621 non-null  float64\n",
            " 3   decimalLongitude               136621 non-null  float64\n",
            " 4   scientificName                 136621 non-null  object \n",
            " 5   eventDate                      136621 non-null  object \n",
            " 6   eventTime                      136621 non-null  object \n",
            " 7   timezone                       136621 non-null  object \n",
            " 8   coordinateUncertaintyInMeters  136621 non-null  float64\n",
            " 9   recordedBy                     136621 non-null  int64  \n",
            " 10  stateProvince                  136621 non-null  object \n",
            "dtypes: float64(3), int64(3), object(5)\n",
            "memory usage: 11.5+ MB\n"
          ]
        }
      ]
    },
    {
      "cell_type": "markdown",
      "source": [
        "Check for missing values."
      ],
      "metadata": {
        "id": "WwlT8s5oAlXD"
      }
    },
    {
      "cell_type": "code",
      "source": [
        "df_id.isna().sum()"
      ],
      "metadata": {
        "colab": {
          "base_uri": "https://localhost:8080/",
          "height": 429
        },
        "id": "t71FHWzyjZhH",
        "outputId": "4f2e9a7b-4a66-44ba-834b-3ce0aaace2a1"
      },
      "execution_count": 5,
      "outputs": [
        {
          "output_type": "execute_result",
          "data": {
            "text/plain": [
              "occurrenceID                     0\n",
              "eventID                          0\n",
              "decimalLatitude                  0\n",
              "decimalLongitude                 0\n",
              "scientificName                   0\n",
              "eventDate                        0\n",
              "eventTime                        0\n",
              "timezone                         0\n",
              "coordinateUncertaintyInMeters    0\n",
              "recordedBy                       0\n",
              "stateProvince                    0\n",
              "dtype: int64"
            ],
            "text/html": [
              "<div>\n",
              "<style scoped>\n",
              "    .dataframe tbody tr th:only-of-type {\n",
              "        vertical-align: middle;\n",
              "    }\n",
              "\n",
              "    .dataframe tbody tr th {\n",
              "        vertical-align: top;\n",
              "    }\n",
              "\n",
              "    .dataframe thead th {\n",
              "        text-align: right;\n",
              "    }\n",
              "</style>\n",
              "<table border=\"1\" class=\"dataframe\">\n",
              "  <thead>\n",
              "    <tr style=\"text-align: right;\">\n",
              "      <th></th>\n",
              "      <th>0</th>\n",
              "    </tr>\n",
              "  </thead>\n",
              "  <tbody>\n",
              "    <tr>\n",
              "      <th>occurrenceID</th>\n",
              "      <td>0</td>\n",
              "    </tr>\n",
              "    <tr>\n",
              "      <th>eventID</th>\n",
              "      <td>0</td>\n",
              "    </tr>\n",
              "    <tr>\n",
              "      <th>decimalLatitude</th>\n",
              "      <td>0</td>\n",
              "    </tr>\n",
              "    <tr>\n",
              "      <th>decimalLongitude</th>\n",
              "      <td>0</td>\n",
              "    </tr>\n",
              "    <tr>\n",
              "      <th>scientificName</th>\n",
              "      <td>0</td>\n",
              "    </tr>\n",
              "    <tr>\n",
              "      <th>eventDate</th>\n",
              "      <td>0</td>\n",
              "    </tr>\n",
              "    <tr>\n",
              "      <th>eventTime</th>\n",
              "      <td>0</td>\n",
              "    </tr>\n",
              "    <tr>\n",
              "      <th>timezone</th>\n",
              "      <td>0</td>\n",
              "    </tr>\n",
              "    <tr>\n",
              "      <th>coordinateUncertaintyInMeters</th>\n",
              "      <td>0</td>\n",
              "    </tr>\n",
              "    <tr>\n",
              "      <th>recordedBy</th>\n",
              "      <td>0</td>\n",
              "    </tr>\n",
              "    <tr>\n",
              "      <th>stateProvince</th>\n",
              "      <td>0</td>\n",
              "    </tr>\n",
              "  </tbody>\n",
              "</table>\n",
              "</div><br><label><b>dtype:</b> int64</label>"
            ]
          },
          "metadata": {},
          "execution_count": 5
        }
      ]
    },
    {
      "cell_type": "markdown",
      "source": [
        "Check for duplicates."
      ],
      "metadata": {
        "id": "CTXRf1kPAnBL"
      }
    },
    {
      "cell_type": "code",
      "source": [
        "id_duplicates = df_id.duplicated()\n",
        "print(id_duplicates.sum())"
      ],
      "metadata": {
        "colab": {
          "base_uri": "https://localhost:8080/"
        },
        "id": "o2T3mNTijdCX",
        "outputId": "917b583a-819a-4ee8-968f-1f04b7f1f645"
      },
      "execution_count": 6,
      "outputs": [
        {
          "output_type": "stream",
          "name": "stdout",
          "text": [
            "0\n"
          ]
        }
      ]
    },
    {
      "cell_type": "markdown",
      "source": [
        "Check numerical value columns."
      ],
      "metadata": {
        "id": "3zEBsKgcAo9z"
      }
    },
    {
      "cell_type": "code",
      "source": [
        "df_id.describe()"
      ],
      "metadata": {
        "colab": {
          "base_uri": "https://localhost:8080/",
          "height": 300
        },
        "id": "kKV2jeb0kMbl",
        "outputId": "a87d18c6-f0a8-4e34-b397-cb6e2f6830ad"
      },
      "execution_count": 7,
      "outputs": [
        {
          "output_type": "execute_result",
          "data": {
            "text/plain": [
              "        occurrenceID        eventID  decimalLatitude  decimalLongitude  \\\n",
              "count  136621.000000  136621.000000    136621.000000     136621.000000   \n",
              "mean   615783.031298  578746.196573       -32.570545        146.111522   \n",
              "std    240487.356744   32322.528839         5.499648          9.662305   \n",
              "min     12832.000000  525452.000000       -43.600700        114.165843   \n",
              "25%    417288.000000  552635.000000       -36.292208        145.212000   \n",
              "50%    531009.000000  581094.000000       -33.729700        149.811440   \n",
              "75%    925251.000000  601991.000000       -30.321081        151.582901   \n",
              "max    974119.000000  820480.000000        -9.411900        159.081328   \n",
              "\n",
              "       coordinateUncertaintyInMeters     recordedBy  \n",
              "count                  136621.000000  136621.000000  \n",
              "mean                      266.296745  374733.822465  \n",
              "std                      1511.121565  398517.944173  \n",
              "min                         0.000000      19.000000  \n",
              "25%                         4.842910   17995.000000  \n",
              "50%                        10.000000   38672.000000  \n",
              "75%                        24.306999  822411.000000  \n",
              "max                     10000.000000  862132.000000  "
            ],
            "text/html": [
              "\n",
              "  <div id=\"df-610f7179-0344-4698-a012-ea6954e0cf3f\" class=\"colab-df-container\">\n",
              "    <div>\n",
              "<style scoped>\n",
              "    .dataframe tbody tr th:only-of-type {\n",
              "        vertical-align: middle;\n",
              "    }\n",
              "\n",
              "    .dataframe tbody tr th {\n",
              "        vertical-align: top;\n",
              "    }\n",
              "\n",
              "    .dataframe thead th {\n",
              "        text-align: right;\n",
              "    }\n",
              "</style>\n",
              "<table border=\"1\" class=\"dataframe\">\n",
              "  <thead>\n",
              "    <tr style=\"text-align: right;\">\n",
              "      <th></th>\n",
              "      <th>occurrenceID</th>\n",
              "      <th>eventID</th>\n",
              "      <th>decimalLatitude</th>\n",
              "      <th>decimalLongitude</th>\n",
              "      <th>coordinateUncertaintyInMeters</th>\n",
              "      <th>recordedBy</th>\n",
              "    </tr>\n",
              "  </thead>\n",
              "  <tbody>\n",
              "    <tr>\n",
              "      <th>count</th>\n",
              "      <td>136621.000000</td>\n",
              "      <td>136621.000000</td>\n",
              "      <td>136621.000000</td>\n",
              "      <td>136621.000000</td>\n",
              "      <td>136621.000000</td>\n",
              "      <td>136621.000000</td>\n",
              "    </tr>\n",
              "    <tr>\n",
              "      <th>mean</th>\n",
              "      <td>615783.031298</td>\n",
              "      <td>578746.196573</td>\n",
              "      <td>-32.570545</td>\n",
              "      <td>146.111522</td>\n",
              "      <td>266.296745</td>\n",
              "      <td>374733.822465</td>\n",
              "    </tr>\n",
              "    <tr>\n",
              "      <th>std</th>\n",
              "      <td>240487.356744</td>\n",
              "      <td>32322.528839</td>\n",
              "      <td>5.499648</td>\n",
              "      <td>9.662305</td>\n",
              "      <td>1511.121565</td>\n",
              "      <td>398517.944173</td>\n",
              "    </tr>\n",
              "    <tr>\n",
              "      <th>min</th>\n",
              "      <td>12832.000000</td>\n",
              "      <td>525452.000000</td>\n",
              "      <td>-43.600700</td>\n",
              "      <td>114.165843</td>\n",
              "      <td>0.000000</td>\n",
              "      <td>19.000000</td>\n",
              "    </tr>\n",
              "    <tr>\n",
              "      <th>25%</th>\n",
              "      <td>417288.000000</td>\n",
              "      <td>552635.000000</td>\n",
              "      <td>-36.292208</td>\n",
              "      <td>145.212000</td>\n",
              "      <td>4.842910</td>\n",
              "      <td>17995.000000</td>\n",
              "    </tr>\n",
              "    <tr>\n",
              "      <th>50%</th>\n",
              "      <td>531009.000000</td>\n",
              "      <td>581094.000000</td>\n",
              "      <td>-33.729700</td>\n",
              "      <td>149.811440</td>\n",
              "      <td>10.000000</td>\n",
              "      <td>38672.000000</td>\n",
              "    </tr>\n",
              "    <tr>\n",
              "      <th>75%</th>\n",
              "      <td>925251.000000</td>\n",
              "      <td>601991.000000</td>\n",
              "      <td>-30.321081</td>\n",
              "      <td>151.582901</td>\n",
              "      <td>24.306999</td>\n",
              "      <td>822411.000000</td>\n",
              "    </tr>\n",
              "    <tr>\n",
              "      <th>max</th>\n",
              "      <td>974119.000000</td>\n",
              "      <td>820480.000000</td>\n",
              "      <td>-9.411900</td>\n",
              "      <td>159.081328</td>\n",
              "      <td>10000.000000</td>\n",
              "      <td>862132.000000</td>\n",
              "    </tr>\n",
              "  </tbody>\n",
              "</table>\n",
              "</div>\n",
              "    <div class=\"colab-df-buttons\">\n",
              "\n",
              "  <div class=\"colab-df-container\">\n",
              "    <button class=\"colab-df-convert\" onclick=\"convertToInteractive('df-610f7179-0344-4698-a012-ea6954e0cf3f')\"\n",
              "            title=\"Convert this dataframe to an interactive table.\"\n",
              "            style=\"display:none;\">\n",
              "\n",
              "  <svg xmlns=\"http://www.w3.org/2000/svg\" height=\"24px\" viewBox=\"0 -960 960 960\">\n",
              "    <path d=\"M120-120v-720h720v720H120Zm60-500h600v-160H180v160Zm220 220h160v-160H400v160Zm0 220h160v-160H400v160ZM180-400h160v-160H180v160Zm440 0h160v-160H620v160ZM180-180h160v-160H180v160Zm440 0h160v-160H620v160Z\"/>\n",
              "  </svg>\n",
              "    </button>\n",
              "\n",
              "  <style>\n",
              "    .colab-df-container {\n",
              "      display:flex;\n",
              "      gap: 12px;\n",
              "    }\n",
              "\n",
              "    .colab-df-convert {\n",
              "      background-color: #E8F0FE;\n",
              "      border: none;\n",
              "      border-radius: 50%;\n",
              "      cursor: pointer;\n",
              "      display: none;\n",
              "      fill: #1967D2;\n",
              "      height: 32px;\n",
              "      padding: 0 0 0 0;\n",
              "      width: 32px;\n",
              "    }\n",
              "\n",
              "    .colab-df-convert:hover {\n",
              "      background-color: #E2EBFA;\n",
              "      box-shadow: 0px 1px 2px rgba(60, 64, 67, 0.3), 0px 1px 3px 1px rgba(60, 64, 67, 0.15);\n",
              "      fill: #174EA6;\n",
              "    }\n",
              "\n",
              "    .colab-df-buttons div {\n",
              "      margin-bottom: 4px;\n",
              "    }\n",
              "\n",
              "    [theme=dark] .colab-df-convert {\n",
              "      background-color: #3B4455;\n",
              "      fill: #D2E3FC;\n",
              "    }\n",
              "\n",
              "    [theme=dark] .colab-df-convert:hover {\n",
              "      background-color: #434B5C;\n",
              "      box-shadow: 0px 1px 3px 1px rgba(0, 0, 0, 0.15);\n",
              "      filter: drop-shadow(0px 1px 2px rgba(0, 0, 0, 0.3));\n",
              "      fill: #FFFFFF;\n",
              "    }\n",
              "  </style>\n",
              "\n",
              "    <script>\n",
              "      const buttonEl =\n",
              "        document.querySelector('#df-610f7179-0344-4698-a012-ea6954e0cf3f button.colab-df-convert');\n",
              "      buttonEl.style.display =\n",
              "        google.colab.kernel.accessAllowed ? 'block' : 'none';\n",
              "\n",
              "      async function convertToInteractive(key) {\n",
              "        const element = document.querySelector('#df-610f7179-0344-4698-a012-ea6954e0cf3f');\n",
              "        const dataTable =\n",
              "          await google.colab.kernel.invokeFunction('convertToInteractive',\n",
              "                                                    [key], {});\n",
              "        if (!dataTable) return;\n",
              "\n",
              "        const docLinkHtml = 'Like what you see? Visit the ' +\n",
              "          '<a target=\"_blank\" href=https://colab.research.google.com/notebooks/data_table.ipynb>data table notebook</a>'\n",
              "          + ' to learn more about interactive tables.';\n",
              "        element.innerHTML = '';\n",
              "        dataTable['output_type'] = 'display_data';\n",
              "        await google.colab.output.renderOutput(dataTable, element);\n",
              "        const docLink = document.createElement('div');\n",
              "        docLink.innerHTML = docLinkHtml;\n",
              "        element.appendChild(docLink);\n",
              "      }\n",
              "    </script>\n",
              "  </div>\n",
              "\n",
              "\n",
              "    <div id=\"df-906f8fa4-38fc-41ec-a402-d022b61b72f4\">\n",
              "      <button class=\"colab-df-quickchart\" onclick=\"quickchart('df-906f8fa4-38fc-41ec-a402-d022b61b72f4')\"\n",
              "                title=\"Suggest charts\"\n",
              "                style=\"display:none;\">\n",
              "\n",
              "<svg xmlns=\"http://www.w3.org/2000/svg\" height=\"24px\"viewBox=\"0 0 24 24\"\n",
              "     width=\"24px\">\n",
              "    <g>\n",
              "        <path d=\"M19 3H5c-1.1 0-2 .9-2 2v14c0 1.1.9 2 2 2h14c1.1 0 2-.9 2-2V5c0-1.1-.9-2-2-2zM9 17H7v-7h2v7zm4 0h-2V7h2v10zm4 0h-2v-4h2v4z\"/>\n",
              "    </g>\n",
              "</svg>\n",
              "      </button>\n",
              "\n",
              "<style>\n",
              "  .colab-df-quickchart {\n",
              "      --bg-color: #E8F0FE;\n",
              "      --fill-color: #1967D2;\n",
              "      --hover-bg-color: #E2EBFA;\n",
              "      --hover-fill-color: #174EA6;\n",
              "      --disabled-fill-color: #AAA;\n",
              "      --disabled-bg-color: #DDD;\n",
              "  }\n",
              "\n",
              "  [theme=dark] .colab-df-quickchart {\n",
              "      --bg-color: #3B4455;\n",
              "      --fill-color: #D2E3FC;\n",
              "      --hover-bg-color: #434B5C;\n",
              "      --hover-fill-color: #FFFFFF;\n",
              "      --disabled-bg-color: #3B4455;\n",
              "      --disabled-fill-color: #666;\n",
              "  }\n",
              "\n",
              "  .colab-df-quickchart {\n",
              "    background-color: var(--bg-color);\n",
              "    border: none;\n",
              "    border-radius: 50%;\n",
              "    cursor: pointer;\n",
              "    display: none;\n",
              "    fill: var(--fill-color);\n",
              "    height: 32px;\n",
              "    padding: 0;\n",
              "    width: 32px;\n",
              "  }\n",
              "\n",
              "  .colab-df-quickchart:hover {\n",
              "    background-color: var(--hover-bg-color);\n",
              "    box-shadow: 0 1px 2px rgba(60, 64, 67, 0.3), 0 1px 3px 1px rgba(60, 64, 67, 0.15);\n",
              "    fill: var(--button-hover-fill-color);\n",
              "  }\n",
              "\n",
              "  .colab-df-quickchart-complete:disabled,\n",
              "  .colab-df-quickchart-complete:disabled:hover {\n",
              "    background-color: var(--disabled-bg-color);\n",
              "    fill: var(--disabled-fill-color);\n",
              "    box-shadow: none;\n",
              "  }\n",
              "\n",
              "  .colab-df-spinner {\n",
              "    border: 2px solid var(--fill-color);\n",
              "    border-color: transparent;\n",
              "    border-bottom-color: var(--fill-color);\n",
              "    animation:\n",
              "      spin 1s steps(1) infinite;\n",
              "  }\n",
              "\n",
              "  @keyframes spin {\n",
              "    0% {\n",
              "      border-color: transparent;\n",
              "      border-bottom-color: var(--fill-color);\n",
              "      border-left-color: var(--fill-color);\n",
              "    }\n",
              "    20% {\n",
              "      border-color: transparent;\n",
              "      border-left-color: var(--fill-color);\n",
              "      border-top-color: var(--fill-color);\n",
              "    }\n",
              "    30% {\n",
              "      border-color: transparent;\n",
              "      border-left-color: var(--fill-color);\n",
              "      border-top-color: var(--fill-color);\n",
              "      border-right-color: var(--fill-color);\n",
              "    }\n",
              "    40% {\n",
              "      border-color: transparent;\n",
              "      border-right-color: var(--fill-color);\n",
              "      border-top-color: var(--fill-color);\n",
              "    }\n",
              "    60% {\n",
              "      border-color: transparent;\n",
              "      border-right-color: var(--fill-color);\n",
              "    }\n",
              "    80% {\n",
              "      border-color: transparent;\n",
              "      border-right-color: var(--fill-color);\n",
              "      border-bottom-color: var(--fill-color);\n",
              "    }\n",
              "    90% {\n",
              "      border-color: transparent;\n",
              "      border-bottom-color: var(--fill-color);\n",
              "    }\n",
              "  }\n",
              "</style>\n",
              "\n",
              "      <script>\n",
              "        async function quickchart(key) {\n",
              "          const quickchartButtonEl =\n",
              "            document.querySelector('#' + key + ' button');\n",
              "          quickchartButtonEl.disabled = true;  // To prevent multiple clicks.\n",
              "          quickchartButtonEl.classList.add('colab-df-spinner');\n",
              "          try {\n",
              "            const charts = await google.colab.kernel.invokeFunction(\n",
              "                'suggestCharts', [key], {});\n",
              "          } catch (error) {\n",
              "            console.error('Error during call to suggestCharts:', error);\n",
              "          }\n",
              "          quickchartButtonEl.classList.remove('colab-df-spinner');\n",
              "          quickchartButtonEl.classList.add('colab-df-quickchart-complete');\n",
              "        }\n",
              "        (() => {\n",
              "          let quickchartButtonEl =\n",
              "            document.querySelector('#df-906f8fa4-38fc-41ec-a402-d022b61b72f4 button');\n",
              "          quickchartButtonEl.style.display =\n",
              "            google.colab.kernel.accessAllowed ? 'block' : 'none';\n",
              "        })();\n",
              "      </script>\n",
              "    </div>\n",
              "\n",
              "    </div>\n",
              "  </div>\n"
            ],
            "application/vnd.google.colaboratory.intrinsic+json": {
              "type": "dataframe",
              "summary": "{\n  \"name\": \"df_id\",\n  \"rows\": 8,\n  \"fields\": [\n    {\n      \"column\": \"occurrenceID\",\n      \"properties\": {\n        \"dtype\": \"number\",\n        \"std\": 350687.64186720666,\n        \"min\": 12832.0,\n        \"max\": 974119.0,\n        \"num_unique_values\": 8,\n        \"samples\": [\n          615783.0312982631,\n          531009.0,\n          136621.0\n        ],\n        \"semantic_type\": \"\",\n        \"description\": \"\"\n      }\n    },\n    {\n      \"column\": \"eventID\",\n      \"properties\": {\n        \"dtype\": \"number\",\n        \"std\": 260886.13448285594,\n        \"min\": 32322.528838714483,\n        \"max\": 820480.0,\n        \"num_unique_values\": 8,\n        \"samples\": [\n          578746.1965730012,\n          581094.0,\n          136621.0\n        ],\n        \"semantic_type\": \"\",\n        \"description\": \"\"\n      }\n    },\n    {\n      \"column\": \"decimalLatitude\",\n      \"properties\": {\n        \"dtype\": \"number\",\n        \"std\": 48311.93335767727,\n        \"min\": -43.6007,\n        \"max\": 136621.0,\n        \"num_unique_values\": 8,\n        \"samples\": [\n          -32.57054494636761,\n          -33.7297,\n          136621.0\n        ],\n        \"semantic_type\": \"\",\n        \"description\": \"\"\n      }\n    },\n    {\n      \"column\": \"decimalLongitude\",\n      \"properties\": {\n        \"dtype\": \"number\",\n        \"std\": 48258.61672106266,\n        \"min\": 9.662304884311817,\n        \"max\": 136621.0,\n        \"num_unique_values\": 8,\n        \"samples\": [\n          146.11152178960256,\n          149.8114400106121,\n          136621.0\n        ],\n        \"semantic_type\": \"\",\n        \"description\": \"\"\n      }\n    },\n    {\n      \"column\": \"coordinateUncertaintyInMeters\",\n      \"properties\": {\n        \"dtype\": \"number\",\n        \"std\": 47829.21820732446,\n        \"min\": 0.0,\n        \"max\": 136621.0,\n        \"num_unique_values\": 8,\n        \"samples\": [\n          266.29674509984375,\n          10.0,\n          136621.0\n        ],\n        \"semantic_type\": \"\",\n        \"description\": \"\"\n      }\n    },\n    {\n      \"column\": \"recordedBy\",\n      \"properties\": {\n        \"dtype\": \"number\",\n        \"std\": 350675.9793291433,\n        \"min\": 19.0,\n        \"max\": 862132.0,\n        \"num_unique_values\": 8,\n        \"samples\": [\n          374733.8224650676,\n          38672.0,\n          136621.0\n        ],\n        \"semantic_type\": \"\",\n        \"description\": \"\"\n      }\n    }\n  ]\n}"
            }
          },
          "metadata": {},
          "execution_count": 7
        }
      ]
    },
    {
      "cell_type": "code",
      "source": [
        "df_id.head()"
      ],
      "metadata": {
        "colab": {
          "base_uri": "https://localhost:8080/",
          "height": 206
        },
        "id": "ly9sOaASmJnQ",
        "outputId": "6ca39199-433a-44e7-fde4-4049c5ca0f03"
      },
      "execution_count": 8,
      "outputs": [
        {
          "output_type": "execute_result",
          "data": {
            "text/plain": [
              "   occurrenceID  eventID  decimalLatitude  decimalLongitude  \\\n",
              "0         12832   525618            -28.5             153.1   \n",
              "1         12833   526341            -33.7             151.2   \n",
              "2         12834   526673            -28.7             152.7   \n",
              "3         12835   526673            -28.7             152.7   \n",
              "4         12836   526673            -28.7             152.7   \n",
              "\n",
              "             scientificName   eventDate eventTime  timezone  \\\n",
              "0       Philoria loveridgei  2023-01-01  11:18:32  GMT+1100   \n",
              "1  Heleioporus australiacus  2023-01-02  20:39:30  GMT+1100   \n",
              "2        Mixophyes iteratus  2023-01-02  21:30:07  GMT+1100   \n",
              "3     Mixophyes fasciolatus  2023-01-02  21:30:07  GMT+1100   \n",
              "4       Litoria latopalmata  2023-01-02  21:30:07  GMT+1100   \n",
              "\n",
              "   coordinateUncertaintyInMeters  recordedBy    stateProvince  \n",
              "0                        10000.0       41480  New South Wales  \n",
              "1                        10000.0      834983  New South Wales  \n",
              "2                        10000.0      804177  New South Wales  \n",
              "3                        10000.0      804177  New South Wales  \n",
              "4                        10000.0      804177  New South Wales  "
            ],
            "text/html": [
              "\n",
              "  <div id=\"df-52a62882-844d-4a53-b5e6-b666ea08e300\" class=\"colab-df-container\">\n",
              "    <div>\n",
              "<style scoped>\n",
              "    .dataframe tbody tr th:only-of-type {\n",
              "        vertical-align: middle;\n",
              "    }\n",
              "\n",
              "    .dataframe tbody tr th {\n",
              "        vertical-align: top;\n",
              "    }\n",
              "\n",
              "    .dataframe thead th {\n",
              "        text-align: right;\n",
              "    }\n",
              "</style>\n",
              "<table border=\"1\" class=\"dataframe\">\n",
              "  <thead>\n",
              "    <tr style=\"text-align: right;\">\n",
              "      <th></th>\n",
              "      <th>occurrenceID</th>\n",
              "      <th>eventID</th>\n",
              "      <th>decimalLatitude</th>\n",
              "      <th>decimalLongitude</th>\n",
              "      <th>scientificName</th>\n",
              "      <th>eventDate</th>\n",
              "      <th>eventTime</th>\n",
              "      <th>timezone</th>\n",
              "      <th>coordinateUncertaintyInMeters</th>\n",
              "      <th>recordedBy</th>\n",
              "      <th>stateProvince</th>\n",
              "    </tr>\n",
              "  </thead>\n",
              "  <tbody>\n",
              "    <tr>\n",
              "      <th>0</th>\n",
              "      <td>12832</td>\n",
              "      <td>525618</td>\n",
              "      <td>-28.5</td>\n",
              "      <td>153.1</td>\n",
              "      <td>Philoria loveridgei</td>\n",
              "      <td>2023-01-01</td>\n",
              "      <td>11:18:32</td>\n",
              "      <td>GMT+1100</td>\n",
              "      <td>10000.0</td>\n",
              "      <td>41480</td>\n",
              "      <td>New South Wales</td>\n",
              "    </tr>\n",
              "    <tr>\n",
              "      <th>1</th>\n",
              "      <td>12833</td>\n",
              "      <td>526341</td>\n",
              "      <td>-33.7</td>\n",
              "      <td>151.2</td>\n",
              "      <td>Heleioporus australiacus</td>\n",
              "      <td>2023-01-02</td>\n",
              "      <td>20:39:30</td>\n",
              "      <td>GMT+1100</td>\n",
              "      <td>10000.0</td>\n",
              "      <td>834983</td>\n",
              "      <td>New South Wales</td>\n",
              "    </tr>\n",
              "    <tr>\n",
              "      <th>2</th>\n",
              "      <td>12834</td>\n",
              "      <td>526673</td>\n",
              "      <td>-28.7</td>\n",
              "      <td>152.7</td>\n",
              "      <td>Mixophyes iteratus</td>\n",
              "      <td>2023-01-02</td>\n",
              "      <td>21:30:07</td>\n",
              "      <td>GMT+1100</td>\n",
              "      <td>10000.0</td>\n",
              "      <td>804177</td>\n",
              "      <td>New South Wales</td>\n",
              "    </tr>\n",
              "    <tr>\n",
              "      <th>3</th>\n",
              "      <td>12835</td>\n",
              "      <td>526673</td>\n",
              "      <td>-28.7</td>\n",
              "      <td>152.7</td>\n",
              "      <td>Mixophyes fasciolatus</td>\n",
              "      <td>2023-01-02</td>\n",
              "      <td>21:30:07</td>\n",
              "      <td>GMT+1100</td>\n",
              "      <td>10000.0</td>\n",
              "      <td>804177</td>\n",
              "      <td>New South Wales</td>\n",
              "    </tr>\n",
              "    <tr>\n",
              "      <th>4</th>\n",
              "      <td>12836</td>\n",
              "      <td>526673</td>\n",
              "      <td>-28.7</td>\n",
              "      <td>152.7</td>\n",
              "      <td>Litoria latopalmata</td>\n",
              "      <td>2023-01-02</td>\n",
              "      <td>21:30:07</td>\n",
              "      <td>GMT+1100</td>\n",
              "      <td>10000.0</td>\n",
              "      <td>804177</td>\n",
              "      <td>New South Wales</td>\n",
              "    </tr>\n",
              "  </tbody>\n",
              "</table>\n",
              "</div>\n",
              "    <div class=\"colab-df-buttons\">\n",
              "\n",
              "  <div class=\"colab-df-container\">\n",
              "    <button class=\"colab-df-convert\" onclick=\"convertToInteractive('df-52a62882-844d-4a53-b5e6-b666ea08e300')\"\n",
              "            title=\"Convert this dataframe to an interactive table.\"\n",
              "            style=\"display:none;\">\n",
              "\n",
              "  <svg xmlns=\"http://www.w3.org/2000/svg\" height=\"24px\" viewBox=\"0 -960 960 960\">\n",
              "    <path d=\"M120-120v-720h720v720H120Zm60-500h600v-160H180v160Zm220 220h160v-160H400v160Zm0 220h160v-160H400v160ZM180-400h160v-160H180v160Zm440 0h160v-160H620v160ZM180-180h160v-160H180v160Zm440 0h160v-160H620v160Z\"/>\n",
              "  </svg>\n",
              "    </button>\n",
              "\n",
              "  <style>\n",
              "    .colab-df-container {\n",
              "      display:flex;\n",
              "      gap: 12px;\n",
              "    }\n",
              "\n",
              "    .colab-df-convert {\n",
              "      background-color: #E8F0FE;\n",
              "      border: none;\n",
              "      border-radius: 50%;\n",
              "      cursor: pointer;\n",
              "      display: none;\n",
              "      fill: #1967D2;\n",
              "      height: 32px;\n",
              "      padding: 0 0 0 0;\n",
              "      width: 32px;\n",
              "    }\n",
              "\n",
              "    .colab-df-convert:hover {\n",
              "      background-color: #E2EBFA;\n",
              "      box-shadow: 0px 1px 2px rgba(60, 64, 67, 0.3), 0px 1px 3px 1px rgba(60, 64, 67, 0.15);\n",
              "      fill: #174EA6;\n",
              "    }\n",
              "\n",
              "    .colab-df-buttons div {\n",
              "      margin-bottom: 4px;\n",
              "    }\n",
              "\n",
              "    [theme=dark] .colab-df-convert {\n",
              "      background-color: #3B4455;\n",
              "      fill: #D2E3FC;\n",
              "    }\n",
              "\n",
              "    [theme=dark] .colab-df-convert:hover {\n",
              "      background-color: #434B5C;\n",
              "      box-shadow: 0px 1px 3px 1px rgba(0, 0, 0, 0.15);\n",
              "      filter: drop-shadow(0px 1px 2px rgba(0, 0, 0, 0.3));\n",
              "      fill: #FFFFFF;\n",
              "    }\n",
              "  </style>\n",
              "\n",
              "    <script>\n",
              "      const buttonEl =\n",
              "        document.querySelector('#df-52a62882-844d-4a53-b5e6-b666ea08e300 button.colab-df-convert');\n",
              "      buttonEl.style.display =\n",
              "        google.colab.kernel.accessAllowed ? 'block' : 'none';\n",
              "\n",
              "      async function convertToInteractive(key) {\n",
              "        const element = document.querySelector('#df-52a62882-844d-4a53-b5e6-b666ea08e300');\n",
              "        const dataTable =\n",
              "          await google.colab.kernel.invokeFunction('convertToInteractive',\n",
              "                                                    [key], {});\n",
              "        if (!dataTable) return;\n",
              "\n",
              "        const docLinkHtml = 'Like what you see? Visit the ' +\n",
              "          '<a target=\"_blank\" href=https://colab.research.google.com/notebooks/data_table.ipynb>data table notebook</a>'\n",
              "          + ' to learn more about interactive tables.';\n",
              "        element.innerHTML = '';\n",
              "        dataTable['output_type'] = 'display_data';\n",
              "        await google.colab.output.renderOutput(dataTable, element);\n",
              "        const docLink = document.createElement('div');\n",
              "        docLink.innerHTML = docLinkHtml;\n",
              "        element.appendChild(docLink);\n",
              "      }\n",
              "    </script>\n",
              "  </div>\n",
              "\n",
              "\n",
              "    <div id=\"df-c5d718ba-ce4f-4487-847c-ab8bfbc5a184\">\n",
              "      <button class=\"colab-df-quickchart\" onclick=\"quickchart('df-c5d718ba-ce4f-4487-847c-ab8bfbc5a184')\"\n",
              "                title=\"Suggest charts\"\n",
              "                style=\"display:none;\">\n",
              "\n",
              "<svg xmlns=\"http://www.w3.org/2000/svg\" height=\"24px\"viewBox=\"0 0 24 24\"\n",
              "     width=\"24px\">\n",
              "    <g>\n",
              "        <path d=\"M19 3H5c-1.1 0-2 .9-2 2v14c0 1.1.9 2 2 2h14c1.1 0 2-.9 2-2V5c0-1.1-.9-2-2-2zM9 17H7v-7h2v7zm4 0h-2V7h2v10zm4 0h-2v-4h2v4z\"/>\n",
              "    </g>\n",
              "</svg>\n",
              "      </button>\n",
              "\n",
              "<style>\n",
              "  .colab-df-quickchart {\n",
              "      --bg-color: #E8F0FE;\n",
              "      --fill-color: #1967D2;\n",
              "      --hover-bg-color: #E2EBFA;\n",
              "      --hover-fill-color: #174EA6;\n",
              "      --disabled-fill-color: #AAA;\n",
              "      --disabled-bg-color: #DDD;\n",
              "  }\n",
              "\n",
              "  [theme=dark] .colab-df-quickchart {\n",
              "      --bg-color: #3B4455;\n",
              "      --fill-color: #D2E3FC;\n",
              "      --hover-bg-color: #434B5C;\n",
              "      --hover-fill-color: #FFFFFF;\n",
              "      --disabled-bg-color: #3B4455;\n",
              "      --disabled-fill-color: #666;\n",
              "  }\n",
              "\n",
              "  .colab-df-quickchart {\n",
              "    background-color: var(--bg-color);\n",
              "    border: none;\n",
              "    border-radius: 50%;\n",
              "    cursor: pointer;\n",
              "    display: none;\n",
              "    fill: var(--fill-color);\n",
              "    height: 32px;\n",
              "    padding: 0;\n",
              "    width: 32px;\n",
              "  }\n",
              "\n",
              "  .colab-df-quickchart:hover {\n",
              "    background-color: var(--hover-bg-color);\n",
              "    box-shadow: 0 1px 2px rgba(60, 64, 67, 0.3), 0 1px 3px 1px rgba(60, 64, 67, 0.15);\n",
              "    fill: var(--button-hover-fill-color);\n",
              "  }\n",
              "\n",
              "  .colab-df-quickchart-complete:disabled,\n",
              "  .colab-df-quickchart-complete:disabled:hover {\n",
              "    background-color: var(--disabled-bg-color);\n",
              "    fill: var(--disabled-fill-color);\n",
              "    box-shadow: none;\n",
              "  }\n",
              "\n",
              "  .colab-df-spinner {\n",
              "    border: 2px solid var(--fill-color);\n",
              "    border-color: transparent;\n",
              "    border-bottom-color: var(--fill-color);\n",
              "    animation:\n",
              "      spin 1s steps(1) infinite;\n",
              "  }\n",
              "\n",
              "  @keyframes spin {\n",
              "    0% {\n",
              "      border-color: transparent;\n",
              "      border-bottom-color: var(--fill-color);\n",
              "      border-left-color: var(--fill-color);\n",
              "    }\n",
              "    20% {\n",
              "      border-color: transparent;\n",
              "      border-left-color: var(--fill-color);\n",
              "      border-top-color: var(--fill-color);\n",
              "    }\n",
              "    30% {\n",
              "      border-color: transparent;\n",
              "      border-left-color: var(--fill-color);\n",
              "      border-top-color: var(--fill-color);\n",
              "      border-right-color: var(--fill-color);\n",
              "    }\n",
              "    40% {\n",
              "      border-color: transparent;\n",
              "      border-right-color: var(--fill-color);\n",
              "      border-top-color: var(--fill-color);\n",
              "    }\n",
              "    60% {\n",
              "      border-color: transparent;\n",
              "      border-right-color: var(--fill-color);\n",
              "    }\n",
              "    80% {\n",
              "      border-color: transparent;\n",
              "      border-right-color: var(--fill-color);\n",
              "      border-bottom-color: var(--fill-color);\n",
              "    }\n",
              "    90% {\n",
              "      border-color: transparent;\n",
              "      border-bottom-color: var(--fill-color);\n",
              "    }\n",
              "  }\n",
              "</style>\n",
              "\n",
              "      <script>\n",
              "        async function quickchart(key) {\n",
              "          const quickchartButtonEl =\n",
              "            document.querySelector('#' + key + ' button');\n",
              "          quickchartButtonEl.disabled = true;  // To prevent multiple clicks.\n",
              "          quickchartButtonEl.classList.add('colab-df-spinner');\n",
              "          try {\n",
              "            const charts = await google.colab.kernel.invokeFunction(\n",
              "                'suggestCharts', [key], {});\n",
              "          } catch (error) {\n",
              "            console.error('Error during call to suggestCharts:', error);\n",
              "          }\n",
              "          quickchartButtonEl.classList.remove('colab-df-spinner');\n",
              "          quickchartButtonEl.classList.add('colab-df-quickchart-complete');\n",
              "        }\n",
              "        (() => {\n",
              "          let quickchartButtonEl =\n",
              "            document.querySelector('#df-c5d718ba-ce4f-4487-847c-ab8bfbc5a184 button');\n",
              "          quickchartButtonEl.style.display =\n",
              "            google.colab.kernel.accessAllowed ? 'block' : 'none';\n",
              "        })();\n",
              "      </script>\n",
              "    </div>\n",
              "\n",
              "    </div>\n",
              "  </div>\n"
            ],
            "application/vnd.google.colaboratory.intrinsic+json": {
              "type": "dataframe",
              "variable_name": "df_id"
            }
          },
          "metadata": {},
          "execution_count": 8
        }
      ]
    },
    {
      "cell_type": "code",
      "source": [
        "df_id.tail()"
      ],
      "metadata": {
        "colab": {
          "base_uri": "https://localhost:8080/",
          "height": 206
        },
        "id": "MPWwb5IpmMSK",
        "outputId": "082aceec-8d8a-4a9b-ded9-4f502f260bda"
      },
      "execution_count": 9,
      "outputs": [
        {
          "output_type": "execute_result",
          "data": {
            "text/plain": [
              "        occurrenceID  eventID  decimalLatitude  decimalLongitude  \\\n",
              "136616        974110   619213       -35.126800        150.753000   \n",
              "136617        974111   658692       -35.152206        150.759737   \n",
              "136618        974112   691758       -35.125944        150.755366   \n",
              "136619        974118   802152       -35.126700        150.755000   \n",
              "136620        974119   802152       -35.126700        150.755000   \n",
              "\n",
              "               scientificName   eventDate eventTime  timezone  \\\n",
              "136616       Crinia signifera  2023-11-09  17:29:47  GMT+1100   \n",
              "136617       Crinia signifera  2023-03-21  11:59:24  GMT+1100   \n",
              "136618  Limnodynastes peronii  2023-08-25  11:36:58  GMT+1000   \n",
              "136619    Paracrinia haswelli  2023-06-06  11:16:39  GMT+1000   \n",
              "136620       Crinia signifera  2023-06-06  11:16:39  GMT+1000   \n",
              "\n",
              "        coordinateUncertaintyInMeters  recordedBy      stateProvince  \n",
              "136616                       8.000000      825385  Other Territories  \n",
              "136617                       4.741598       12486  Other Territories  \n",
              "136618                      11.824237      826303  Other Territories  \n",
              "136619                       4.357000       35183  Other Territories  \n",
              "136620                       4.357000       35183  Other Territories  "
            ],
            "text/html": [
              "\n",
              "  <div id=\"df-ea721d62-8e2c-4dab-8227-0559c0057a37\" class=\"colab-df-container\">\n",
              "    <div>\n",
              "<style scoped>\n",
              "    .dataframe tbody tr th:only-of-type {\n",
              "        vertical-align: middle;\n",
              "    }\n",
              "\n",
              "    .dataframe tbody tr th {\n",
              "        vertical-align: top;\n",
              "    }\n",
              "\n",
              "    .dataframe thead th {\n",
              "        text-align: right;\n",
              "    }\n",
              "</style>\n",
              "<table border=\"1\" class=\"dataframe\">\n",
              "  <thead>\n",
              "    <tr style=\"text-align: right;\">\n",
              "      <th></th>\n",
              "      <th>occurrenceID</th>\n",
              "      <th>eventID</th>\n",
              "      <th>decimalLatitude</th>\n",
              "      <th>decimalLongitude</th>\n",
              "      <th>scientificName</th>\n",
              "      <th>eventDate</th>\n",
              "      <th>eventTime</th>\n",
              "      <th>timezone</th>\n",
              "      <th>coordinateUncertaintyInMeters</th>\n",
              "      <th>recordedBy</th>\n",
              "      <th>stateProvince</th>\n",
              "    </tr>\n",
              "  </thead>\n",
              "  <tbody>\n",
              "    <tr>\n",
              "      <th>136616</th>\n",
              "      <td>974110</td>\n",
              "      <td>619213</td>\n",
              "      <td>-35.126800</td>\n",
              "      <td>150.753000</td>\n",
              "      <td>Crinia signifera</td>\n",
              "      <td>2023-11-09</td>\n",
              "      <td>17:29:47</td>\n",
              "      <td>GMT+1100</td>\n",
              "      <td>8.000000</td>\n",
              "      <td>825385</td>\n",
              "      <td>Other Territories</td>\n",
              "    </tr>\n",
              "    <tr>\n",
              "      <th>136617</th>\n",
              "      <td>974111</td>\n",
              "      <td>658692</td>\n",
              "      <td>-35.152206</td>\n",
              "      <td>150.759737</td>\n",
              "      <td>Crinia signifera</td>\n",
              "      <td>2023-03-21</td>\n",
              "      <td>11:59:24</td>\n",
              "      <td>GMT+1100</td>\n",
              "      <td>4.741598</td>\n",
              "      <td>12486</td>\n",
              "      <td>Other Territories</td>\n",
              "    </tr>\n",
              "    <tr>\n",
              "      <th>136618</th>\n",
              "      <td>974112</td>\n",
              "      <td>691758</td>\n",
              "      <td>-35.125944</td>\n",
              "      <td>150.755366</td>\n",
              "      <td>Limnodynastes peronii</td>\n",
              "      <td>2023-08-25</td>\n",
              "      <td>11:36:58</td>\n",
              "      <td>GMT+1000</td>\n",
              "      <td>11.824237</td>\n",
              "      <td>826303</td>\n",
              "      <td>Other Territories</td>\n",
              "    </tr>\n",
              "    <tr>\n",
              "      <th>136619</th>\n",
              "      <td>974118</td>\n",
              "      <td>802152</td>\n",
              "      <td>-35.126700</td>\n",
              "      <td>150.755000</td>\n",
              "      <td>Paracrinia haswelli</td>\n",
              "      <td>2023-06-06</td>\n",
              "      <td>11:16:39</td>\n",
              "      <td>GMT+1000</td>\n",
              "      <td>4.357000</td>\n",
              "      <td>35183</td>\n",
              "      <td>Other Territories</td>\n",
              "    </tr>\n",
              "    <tr>\n",
              "      <th>136620</th>\n",
              "      <td>974119</td>\n",
              "      <td>802152</td>\n",
              "      <td>-35.126700</td>\n",
              "      <td>150.755000</td>\n",
              "      <td>Crinia signifera</td>\n",
              "      <td>2023-06-06</td>\n",
              "      <td>11:16:39</td>\n",
              "      <td>GMT+1000</td>\n",
              "      <td>4.357000</td>\n",
              "      <td>35183</td>\n",
              "      <td>Other Territories</td>\n",
              "    </tr>\n",
              "  </tbody>\n",
              "</table>\n",
              "</div>\n",
              "    <div class=\"colab-df-buttons\">\n",
              "\n",
              "  <div class=\"colab-df-container\">\n",
              "    <button class=\"colab-df-convert\" onclick=\"convertToInteractive('df-ea721d62-8e2c-4dab-8227-0559c0057a37')\"\n",
              "            title=\"Convert this dataframe to an interactive table.\"\n",
              "            style=\"display:none;\">\n",
              "\n",
              "  <svg xmlns=\"http://www.w3.org/2000/svg\" height=\"24px\" viewBox=\"0 -960 960 960\">\n",
              "    <path d=\"M120-120v-720h720v720H120Zm60-500h600v-160H180v160Zm220 220h160v-160H400v160Zm0 220h160v-160H400v160ZM180-400h160v-160H180v160Zm440 0h160v-160H620v160ZM180-180h160v-160H180v160Zm440 0h160v-160H620v160Z\"/>\n",
              "  </svg>\n",
              "    </button>\n",
              "\n",
              "  <style>\n",
              "    .colab-df-container {\n",
              "      display:flex;\n",
              "      gap: 12px;\n",
              "    }\n",
              "\n",
              "    .colab-df-convert {\n",
              "      background-color: #E8F0FE;\n",
              "      border: none;\n",
              "      border-radius: 50%;\n",
              "      cursor: pointer;\n",
              "      display: none;\n",
              "      fill: #1967D2;\n",
              "      height: 32px;\n",
              "      padding: 0 0 0 0;\n",
              "      width: 32px;\n",
              "    }\n",
              "\n",
              "    .colab-df-convert:hover {\n",
              "      background-color: #E2EBFA;\n",
              "      box-shadow: 0px 1px 2px rgba(60, 64, 67, 0.3), 0px 1px 3px 1px rgba(60, 64, 67, 0.15);\n",
              "      fill: #174EA6;\n",
              "    }\n",
              "\n",
              "    .colab-df-buttons div {\n",
              "      margin-bottom: 4px;\n",
              "    }\n",
              "\n",
              "    [theme=dark] .colab-df-convert {\n",
              "      background-color: #3B4455;\n",
              "      fill: #D2E3FC;\n",
              "    }\n",
              "\n",
              "    [theme=dark] .colab-df-convert:hover {\n",
              "      background-color: #434B5C;\n",
              "      box-shadow: 0px 1px 3px 1px rgba(0, 0, 0, 0.15);\n",
              "      filter: drop-shadow(0px 1px 2px rgba(0, 0, 0, 0.3));\n",
              "      fill: #FFFFFF;\n",
              "    }\n",
              "  </style>\n",
              "\n",
              "    <script>\n",
              "      const buttonEl =\n",
              "        document.querySelector('#df-ea721d62-8e2c-4dab-8227-0559c0057a37 button.colab-df-convert');\n",
              "      buttonEl.style.display =\n",
              "        google.colab.kernel.accessAllowed ? 'block' : 'none';\n",
              "\n",
              "      async function convertToInteractive(key) {\n",
              "        const element = document.querySelector('#df-ea721d62-8e2c-4dab-8227-0559c0057a37');\n",
              "        const dataTable =\n",
              "          await google.colab.kernel.invokeFunction('convertToInteractive',\n",
              "                                                    [key], {});\n",
              "        if (!dataTable) return;\n",
              "\n",
              "        const docLinkHtml = 'Like what you see? Visit the ' +\n",
              "          '<a target=\"_blank\" href=https://colab.research.google.com/notebooks/data_table.ipynb>data table notebook</a>'\n",
              "          + ' to learn more about interactive tables.';\n",
              "        element.innerHTML = '';\n",
              "        dataTable['output_type'] = 'display_data';\n",
              "        await google.colab.output.renderOutput(dataTable, element);\n",
              "        const docLink = document.createElement('div');\n",
              "        docLink.innerHTML = docLinkHtml;\n",
              "        element.appendChild(docLink);\n",
              "      }\n",
              "    </script>\n",
              "  </div>\n",
              "\n",
              "\n",
              "    <div id=\"df-f80ddd98-ee61-4ba7-b1a6-4565f35f9210\">\n",
              "      <button class=\"colab-df-quickchart\" onclick=\"quickchart('df-f80ddd98-ee61-4ba7-b1a6-4565f35f9210')\"\n",
              "                title=\"Suggest charts\"\n",
              "                style=\"display:none;\">\n",
              "\n",
              "<svg xmlns=\"http://www.w3.org/2000/svg\" height=\"24px\"viewBox=\"0 0 24 24\"\n",
              "     width=\"24px\">\n",
              "    <g>\n",
              "        <path d=\"M19 3H5c-1.1 0-2 .9-2 2v14c0 1.1.9 2 2 2h14c1.1 0 2-.9 2-2V5c0-1.1-.9-2-2-2zM9 17H7v-7h2v7zm4 0h-2V7h2v10zm4 0h-2v-4h2v4z\"/>\n",
              "    </g>\n",
              "</svg>\n",
              "      </button>\n",
              "\n",
              "<style>\n",
              "  .colab-df-quickchart {\n",
              "      --bg-color: #E8F0FE;\n",
              "      --fill-color: #1967D2;\n",
              "      --hover-bg-color: #E2EBFA;\n",
              "      --hover-fill-color: #174EA6;\n",
              "      --disabled-fill-color: #AAA;\n",
              "      --disabled-bg-color: #DDD;\n",
              "  }\n",
              "\n",
              "  [theme=dark] .colab-df-quickchart {\n",
              "      --bg-color: #3B4455;\n",
              "      --fill-color: #D2E3FC;\n",
              "      --hover-bg-color: #434B5C;\n",
              "      --hover-fill-color: #FFFFFF;\n",
              "      --disabled-bg-color: #3B4455;\n",
              "      --disabled-fill-color: #666;\n",
              "  }\n",
              "\n",
              "  .colab-df-quickchart {\n",
              "    background-color: var(--bg-color);\n",
              "    border: none;\n",
              "    border-radius: 50%;\n",
              "    cursor: pointer;\n",
              "    display: none;\n",
              "    fill: var(--fill-color);\n",
              "    height: 32px;\n",
              "    padding: 0;\n",
              "    width: 32px;\n",
              "  }\n",
              "\n",
              "  .colab-df-quickchart:hover {\n",
              "    background-color: var(--hover-bg-color);\n",
              "    box-shadow: 0 1px 2px rgba(60, 64, 67, 0.3), 0 1px 3px 1px rgba(60, 64, 67, 0.15);\n",
              "    fill: var(--button-hover-fill-color);\n",
              "  }\n",
              "\n",
              "  .colab-df-quickchart-complete:disabled,\n",
              "  .colab-df-quickchart-complete:disabled:hover {\n",
              "    background-color: var(--disabled-bg-color);\n",
              "    fill: var(--disabled-fill-color);\n",
              "    box-shadow: none;\n",
              "  }\n",
              "\n",
              "  .colab-df-spinner {\n",
              "    border: 2px solid var(--fill-color);\n",
              "    border-color: transparent;\n",
              "    border-bottom-color: var(--fill-color);\n",
              "    animation:\n",
              "      spin 1s steps(1) infinite;\n",
              "  }\n",
              "\n",
              "  @keyframes spin {\n",
              "    0% {\n",
              "      border-color: transparent;\n",
              "      border-bottom-color: var(--fill-color);\n",
              "      border-left-color: var(--fill-color);\n",
              "    }\n",
              "    20% {\n",
              "      border-color: transparent;\n",
              "      border-left-color: var(--fill-color);\n",
              "      border-top-color: var(--fill-color);\n",
              "    }\n",
              "    30% {\n",
              "      border-color: transparent;\n",
              "      border-left-color: var(--fill-color);\n",
              "      border-top-color: var(--fill-color);\n",
              "      border-right-color: var(--fill-color);\n",
              "    }\n",
              "    40% {\n",
              "      border-color: transparent;\n",
              "      border-right-color: var(--fill-color);\n",
              "      border-top-color: var(--fill-color);\n",
              "    }\n",
              "    60% {\n",
              "      border-color: transparent;\n",
              "      border-right-color: var(--fill-color);\n",
              "    }\n",
              "    80% {\n",
              "      border-color: transparent;\n",
              "      border-right-color: var(--fill-color);\n",
              "      border-bottom-color: var(--fill-color);\n",
              "    }\n",
              "    90% {\n",
              "      border-color: transparent;\n",
              "      border-bottom-color: var(--fill-color);\n",
              "    }\n",
              "  }\n",
              "</style>\n",
              "\n",
              "      <script>\n",
              "        async function quickchart(key) {\n",
              "          const quickchartButtonEl =\n",
              "            document.querySelector('#' + key + ' button');\n",
              "          quickchartButtonEl.disabled = true;  // To prevent multiple clicks.\n",
              "          quickchartButtonEl.classList.add('colab-df-spinner');\n",
              "          try {\n",
              "            const charts = await google.colab.kernel.invokeFunction(\n",
              "                'suggestCharts', [key], {});\n",
              "          } catch (error) {\n",
              "            console.error('Error during call to suggestCharts:', error);\n",
              "          }\n",
              "          quickchartButtonEl.classList.remove('colab-df-spinner');\n",
              "          quickchartButtonEl.classList.add('colab-df-quickchart-complete');\n",
              "        }\n",
              "        (() => {\n",
              "          let quickchartButtonEl =\n",
              "            document.querySelector('#df-f80ddd98-ee61-4ba7-b1a6-4565f35f9210 button');\n",
              "          quickchartButtonEl.style.display =\n",
              "            google.colab.kernel.accessAllowed ? 'block' : 'none';\n",
              "        })();\n",
              "      </script>\n",
              "    </div>\n",
              "\n",
              "    </div>\n",
              "  </div>\n"
            ],
            "application/vnd.google.colaboratory.intrinsic+json": {
              "type": "dataframe",
              "repr_error": "0"
            }
          },
          "metadata": {},
          "execution_count": 9
        }
      ]
    },
    {
      "cell_type": "markdown",
      "source": [
        "### **1.2 Exploring Name Data**"
      ],
      "metadata": {
        "id": "pJCMPrLIi17k"
      }
    },
    {
      "cell_type": "markdown",
      "source": [
        "In this step we will look at our df_names data, to identify areas of potential improvement. Detect any duplicate or missing records. This will allow us to have a better idea of what cleaning tasks to perform in step 2."
      ],
      "metadata": {
        "id": "T4zxmRJ3Agq5"
      }
    },
    {
      "cell_type": "code",
      "source": [
        "df_names.info()"
      ],
      "metadata": {
        "colab": {
          "base_uri": "https://localhost:8080/"
        },
        "id": "E4ZX5N7XjVsV",
        "outputId": "988e9f5b-9fab-4176-c297-b03a558e6d50"
      },
      "execution_count": 10,
      "outputs": [
        {
          "output_type": "stream",
          "name": "stdout",
          "text": [
            "<class 'pandas.core.frame.DataFrame'>\n",
            "RangeIndex: 294 entries, 0 to 293\n",
            "Data columns (total 5 columns):\n",
            " #   Column                 Non-Null Count  Dtype \n",
            "---  ------                 --------------  ----- \n",
            " 0   subfamily              294 non-null    object\n",
            " 1   tribe                  294 non-null    object\n",
            " 2   scientificName         293 non-null    object\n",
            " 3   commonName             294 non-null    object\n",
            " 4   secondary_commonNames  294 non-null    object\n",
            "dtypes: object(5)\n",
            "memory usage: 11.6+ KB\n"
          ]
        }
      ]
    },
    {
      "cell_type": "markdown",
      "source": [
        "Check for missing values."
      ],
      "metadata": {
        "id": "5cWhWMVhAw0V"
      }
    },
    {
      "cell_type": "code",
      "source": [
        "df_names.isna().sum()"
      ],
      "metadata": {
        "colab": {
          "base_uri": "https://localhost:8080/",
          "height": 241
        },
        "id": "C0EhBSE_kdQB",
        "outputId": "0b78f3aa-dbeb-4c5a-945a-4856507e5dde"
      },
      "execution_count": 11,
      "outputs": [
        {
          "output_type": "execute_result",
          "data": {
            "text/plain": [
              "subfamily                0\n",
              "tribe                    0\n",
              "scientificName           1\n",
              "commonName               0\n",
              "secondary_commonNames    0\n",
              "dtype: int64"
            ],
            "text/html": [
              "<div>\n",
              "<style scoped>\n",
              "    .dataframe tbody tr th:only-of-type {\n",
              "        vertical-align: middle;\n",
              "    }\n",
              "\n",
              "    .dataframe tbody tr th {\n",
              "        vertical-align: top;\n",
              "    }\n",
              "\n",
              "    .dataframe thead th {\n",
              "        text-align: right;\n",
              "    }\n",
              "</style>\n",
              "<table border=\"1\" class=\"dataframe\">\n",
              "  <thead>\n",
              "    <tr style=\"text-align: right;\">\n",
              "      <th></th>\n",
              "      <th>0</th>\n",
              "    </tr>\n",
              "  </thead>\n",
              "  <tbody>\n",
              "    <tr>\n",
              "      <th>subfamily</th>\n",
              "      <td>0</td>\n",
              "    </tr>\n",
              "    <tr>\n",
              "      <th>tribe</th>\n",
              "      <td>0</td>\n",
              "    </tr>\n",
              "    <tr>\n",
              "      <th>scientificName</th>\n",
              "      <td>1</td>\n",
              "    </tr>\n",
              "    <tr>\n",
              "      <th>commonName</th>\n",
              "      <td>0</td>\n",
              "    </tr>\n",
              "    <tr>\n",
              "      <th>secondary_commonNames</th>\n",
              "      <td>0</td>\n",
              "    </tr>\n",
              "  </tbody>\n",
              "</table>\n",
              "</div><br><label><b>dtype:</b> int64</label>"
            ]
          },
          "metadata": {},
          "execution_count": 11
        }
      ]
    },
    {
      "cell_type": "code",
      "source": [
        "print(df_names[df_names['scientificName'].isna()])"
      ],
      "metadata": {
        "colab": {
          "base_uri": "https://localhost:8080/"
        },
        "id": "WVxME7Ebkilz",
        "outputId": "fd37187f-ecdb-49d8-a8ea-4382f8b64b81"
      },
      "execution_count": 12,
      "outputs": [
        {
          "output_type": "stream",
          "name": "stdout",
          "text": [
            "    subfamily           tribe scientificName commonName secondary_commonNames\n",
            "103     Hylid   Pelodryadidae            NaN          —                     —\n"
          ]
        }
      ]
    },
    {
      "cell_type": "markdown",
      "source": [
        "Check for duplicates."
      ],
      "metadata": {
        "id": "75IQjmdYAzc2"
      }
    },
    {
      "cell_type": "code",
      "source": [
        "name_duplicates = df_names.duplicated()\n",
        "print(name_duplicates.sum())"
      ],
      "metadata": {
        "colab": {
          "base_uri": "https://localhost:8080/"
        },
        "id": "t9ijcQuSkxmP",
        "outputId": "e60ebbf6-4b65-41cc-f197-53f06195ccd8"
      },
      "execution_count": 13,
      "outputs": [
        {
          "output_type": "stream",
          "name": "stdout",
          "text": [
            "0\n"
          ]
        }
      ]
    },
    {
      "cell_type": "code",
      "source": [
        "df_names.head()"
      ],
      "metadata": {
        "colab": {
          "base_uri": "https://localhost:8080/",
          "height": 206
        },
        "id": "zjf_Z2UIA3CB",
        "outputId": "f57a8bb6-2c94-453a-e126-361e1035c58c"
      },
      "execution_count": 14,
      "outputs": [
        {
          "output_type": "execute_result",
          "data": {
            "text/plain": [
              "  subfamily           tribe         scientificName              commonName  \\\n",
              "0     Hylid   Pelodryadidae              Cyclorana                       —   \n",
              "1     Hylid   Pelodryadidae  Cyclorana alboguttata  Striped Burrowing Frog   \n",
              "2     Hylid   Pelodryadidae    Cyclorana australis  Northern Snapping Frog   \n",
              "3     Hylid   Pelodryadidae     Cyclorana brevipes    Superb Collared Frog   \n",
              "4     Hylid   Pelodryadidae    Cyclorana cryptotis         Hidden-ear Frog   \n",
              "\n",
              "  secondary_commonNames  \n",
              "0                     —  \n",
              "1    Green-striped Frog  \n",
              "2            Giant Frog  \n",
              "3     Short-footed Frog  \n",
              "4          Earless Frog  "
            ],
            "text/html": [
              "\n",
              "  <div id=\"df-df9f4521-b51f-4123-8055-e0b35f127585\" class=\"colab-df-container\">\n",
              "    <div>\n",
              "<style scoped>\n",
              "    .dataframe tbody tr th:only-of-type {\n",
              "        vertical-align: middle;\n",
              "    }\n",
              "\n",
              "    .dataframe tbody tr th {\n",
              "        vertical-align: top;\n",
              "    }\n",
              "\n",
              "    .dataframe thead th {\n",
              "        text-align: right;\n",
              "    }\n",
              "</style>\n",
              "<table border=\"1\" class=\"dataframe\">\n",
              "  <thead>\n",
              "    <tr style=\"text-align: right;\">\n",
              "      <th></th>\n",
              "      <th>subfamily</th>\n",
              "      <th>tribe</th>\n",
              "      <th>scientificName</th>\n",
              "      <th>commonName</th>\n",
              "      <th>secondary_commonNames</th>\n",
              "    </tr>\n",
              "  </thead>\n",
              "  <tbody>\n",
              "    <tr>\n",
              "      <th>0</th>\n",
              "      <td>Hylid</td>\n",
              "      <td>Pelodryadidae</td>\n",
              "      <td>Cyclorana</td>\n",
              "      <td>—</td>\n",
              "      <td>—</td>\n",
              "    </tr>\n",
              "    <tr>\n",
              "      <th>1</th>\n",
              "      <td>Hylid</td>\n",
              "      <td>Pelodryadidae</td>\n",
              "      <td>Cyclorana alboguttata</td>\n",
              "      <td>Striped Burrowing Frog</td>\n",
              "      <td>Green-striped Frog</td>\n",
              "    </tr>\n",
              "    <tr>\n",
              "      <th>2</th>\n",
              "      <td>Hylid</td>\n",
              "      <td>Pelodryadidae</td>\n",
              "      <td>Cyclorana australis</td>\n",
              "      <td>Northern Snapping Frog</td>\n",
              "      <td>Giant Frog</td>\n",
              "    </tr>\n",
              "    <tr>\n",
              "      <th>3</th>\n",
              "      <td>Hylid</td>\n",
              "      <td>Pelodryadidae</td>\n",
              "      <td>Cyclorana brevipes</td>\n",
              "      <td>Superb Collared Frog</td>\n",
              "      <td>Short-footed Frog</td>\n",
              "    </tr>\n",
              "    <tr>\n",
              "      <th>4</th>\n",
              "      <td>Hylid</td>\n",
              "      <td>Pelodryadidae</td>\n",
              "      <td>Cyclorana cryptotis</td>\n",
              "      <td>Hidden-ear Frog</td>\n",
              "      <td>Earless Frog</td>\n",
              "    </tr>\n",
              "  </tbody>\n",
              "</table>\n",
              "</div>\n",
              "    <div class=\"colab-df-buttons\">\n",
              "\n",
              "  <div class=\"colab-df-container\">\n",
              "    <button class=\"colab-df-convert\" onclick=\"convertToInteractive('df-df9f4521-b51f-4123-8055-e0b35f127585')\"\n",
              "            title=\"Convert this dataframe to an interactive table.\"\n",
              "            style=\"display:none;\">\n",
              "\n",
              "  <svg xmlns=\"http://www.w3.org/2000/svg\" height=\"24px\" viewBox=\"0 -960 960 960\">\n",
              "    <path d=\"M120-120v-720h720v720H120Zm60-500h600v-160H180v160Zm220 220h160v-160H400v160Zm0 220h160v-160H400v160ZM180-400h160v-160H180v160Zm440 0h160v-160H620v160ZM180-180h160v-160H180v160Zm440 0h160v-160H620v160Z\"/>\n",
              "  </svg>\n",
              "    </button>\n",
              "\n",
              "  <style>\n",
              "    .colab-df-container {\n",
              "      display:flex;\n",
              "      gap: 12px;\n",
              "    }\n",
              "\n",
              "    .colab-df-convert {\n",
              "      background-color: #E8F0FE;\n",
              "      border: none;\n",
              "      border-radius: 50%;\n",
              "      cursor: pointer;\n",
              "      display: none;\n",
              "      fill: #1967D2;\n",
              "      height: 32px;\n",
              "      padding: 0 0 0 0;\n",
              "      width: 32px;\n",
              "    }\n",
              "\n",
              "    .colab-df-convert:hover {\n",
              "      background-color: #E2EBFA;\n",
              "      box-shadow: 0px 1px 2px rgba(60, 64, 67, 0.3), 0px 1px 3px 1px rgba(60, 64, 67, 0.15);\n",
              "      fill: #174EA6;\n",
              "    }\n",
              "\n",
              "    .colab-df-buttons div {\n",
              "      margin-bottom: 4px;\n",
              "    }\n",
              "\n",
              "    [theme=dark] .colab-df-convert {\n",
              "      background-color: #3B4455;\n",
              "      fill: #D2E3FC;\n",
              "    }\n",
              "\n",
              "    [theme=dark] .colab-df-convert:hover {\n",
              "      background-color: #434B5C;\n",
              "      box-shadow: 0px 1px 3px 1px rgba(0, 0, 0, 0.15);\n",
              "      filter: drop-shadow(0px 1px 2px rgba(0, 0, 0, 0.3));\n",
              "      fill: #FFFFFF;\n",
              "    }\n",
              "  </style>\n",
              "\n",
              "    <script>\n",
              "      const buttonEl =\n",
              "        document.querySelector('#df-df9f4521-b51f-4123-8055-e0b35f127585 button.colab-df-convert');\n",
              "      buttonEl.style.display =\n",
              "        google.colab.kernel.accessAllowed ? 'block' : 'none';\n",
              "\n",
              "      async function convertToInteractive(key) {\n",
              "        const element = document.querySelector('#df-df9f4521-b51f-4123-8055-e0b35f127585');\n",
              "        const dataTable =\n",
              "          await google.colab.kernel.invokeFunction('convertToInteractive',\n",
              "                                                    [key], {});\n",
              "        if (!dataTable) return;\n",
              "\n",
              "        const docLinkHtml = 'Like what you see? Visit the ' +\n",
              "          '<a target=\"_blank\" href=https://colab.research.google.com/notebooks/data_table.ipynb>data table notebook</a>'\n",
              "          + ' to learn more about interactive tables.';\n",
              "        element.innerHTML = '';\n",
              "        dataTable['output_type'] = 'display_data';\n",
              "        await google.colab.output.renderOutput(dataTable, element);\n",
              "        const docLink = document.createElement('div');\n",
              "        docLink.innerHTML = docLinkHtml;\n",
              "        element.appendChild(docLink);\n",
              "      }\n",
              "    </script>\n",
              "  </div>\n",
              "\n",
              "\n",
              "    <div id=\"df-6c943c78-9a0b-4e7e-9c14-540ce3683f6a\">\n",
              "      <button class=\"colab-df-quickchart\" onclick=\"quickchart('df-6c943c78-9a0b-4e7e-9c14-540ce3683f6a')\"\n",
              "                title=\"Suggest charts\"\n",
              "                style=\"display:none;\">\n",
              "\n",
              "<svg xmlns=\"http://www.w3.org/2000/svg\" height=\"24px\"viewBox=\"0 0 24 24\"\n",
              "     width=\"24px\">\n",
              "    <g>\n",
              "        <path d=\"M19 3H5c-1.1 0-2 .9-2 2v14c0 1.1.9 2 2 2h14c1.1 0 2-.9 2-2V5c0-1.1-.9-2-2-2zM9 17H7v-7h2v7zm4 0h-2V7h2v10zm4 0h-2v-4h2v4z\"/>\n",
              "    </g>\n",
              "</svg>\n",
              "      </button>\n",
              "\n",
              "<style>\n",
              "  .colab-df-quickchart {\n",
              "      --bg-color: #E8F0FE;\n",
              "      --fill-color: #1967D2;\n",
              "      --hover-bg-color: #E2EBFA;\n",
              "      --hover-fill-color: #174EA6;\n",
              "      --disabled-fill-color: #AAA;\n",
              "      --disabled-bg-color: #DDD;\n",
              "  }\n",
              "\n",
              "  [theme=dark] .colab-df-quickchart {\n",
              "      --bg-color: #3B4455;\n",
              "      --fill-color: #D2E3FC;\n",
              "      --hover-bg-color: #434B5C;\n",
              "      --hover-fill-color: #FFFFFF;\n",
              "      --disabled-bg-color: #3B4455;\n",
              "      --disabled-fill-color: #666;\n",
              "  }\n",
              "\n",
              "  .colab-df-quickchart {\n",
              "    background-color: var(--bg-color);\n",
              "    border: none;\n",
              "    border-radius: 50%;\n",
              "    cursor: pointer;\n",
              "    display: none;\n",
              "    fill: var(--fill-color);\n",
              "    height: 32px;\n",
              "    padding: 0;\n",
              "    width: 32px;\n",
              "  }\n",
              "\n",
              "  .colab-df-quickchart:hover {\n",
              "    background-color: var(--hover-bg-color);\n",
              "    box-shadow: 0 1px 2px rgba(60, 64, 67, 0.3), 0 1px 3px 1px rgba(60, 64, 67, 0.15);\n",
              "    fill: var(--button-hover-fill-color);\n",
              "  }\n",
              "\n",
              "  .colab-df-quickchart-complete:disabled,\n",
              "  .colab-df-quickchart-complete:disabled:hover {\n",
              "    background-color: var(--disabled-bg-color);\n",
              "    fill: var(--disabled-fill-color);\n",
              "    box-shadow: none;\n",
              "  }\n",
              "\n",
              "  .colab-df-spinner {\n",
              "    border: 2px solid var(--fill-color);\n",
              "    border-color: transparent;\n",
              "    border-bottom-color: var(--fill-color);\n",
              "    animation:\n",
              "      spin 1s steps(1) infinite;\n",
              "  }\n",
              "\n",
              "  @keyframes spin {\n",
              "    0% {\n",
              "      border-color: transparent;\n",
              "      border-bottom-color: var(--fill-color);\n",
              "      border-left-color: var(--fill-color);\n",
              "    }\n",
              "    20% {\n",
              "      border-color: transparent;\n",
              "      border-left-color: var(--fill-color);\n",
              "      border-top-color: var(--fill-color);\n",
              "    }\n",
              "    30% {\n",
              "      border-color: transparent;\n",
              "      border-left-color: var(--fill-color);\n",
              "      border-top-color: var(--fill-color);\n",
              "      border-right-color: var(--fill-color);\n",
              "    }\n",
              "    40% {\n",
              "      border-color: transparent;\n",
              "      border-right-color: var(--fill-color);\n",
              "      border-top-color: var(--fill-color);\n",
              "    }\n",
              "    60% {\n",
              "      border-color: transparent;\n",
              "      border-right-color: var(--fill-color);\n",
              "    }\n",
              "    80% {\n",
              "      border-color: transparent;\n",
              "      border-right-color: var(--fill-color);\n",
              "      border-bottom-color: var(--fill-color);\n",
              "    }\n",
              "    90% {\n",
              "      border-color: transparent;\n",
              "      border-bottom-color: var(--fill-color);\n",
              "    }\n",
              "  }\n",
              "</style>\n",
              "\n",
              "      <script>\n",
              "        async function quickchart(key) {\n",
              "          const quickchartButtonEl =\n",
              "            document.querySelector('#' + key + ' button');\n",
              "          quickchartButtonEl.disabled = true;  // To prevent multiple clicks.\n",
              "          quickchartButtonEl.classList.add('colab-df-spinner');\n",
              "          try {\n",
              "            const charts = await google.colab.kernel.invokeFunction(\n",
              "                'suggestCharts', [key], {});\n",
              "          } catch (error) {\n",
              "            console.error('Error during call to suggestCharts:', error);\n",
              "          }\n",
              "          quickchartButtonEl.classList.remove('colab-df-spinner');\n",
              "          quickchartButtonEl.classList.add('colab-df-quickchart-complete');\n",
              "        }\n",
              "        (() => {\n",
              "          let quickchartButtonEl =\n",
              "            document.querySelector('#df-6c943c78-9a0b-4e7e-9c14-540ce3683f6a button');\n",
              "          quickchartButtonEl.style.display =\n",
              "            google.colab.kernel.accessAllowed ? 'block' : 'none';\n",
              "        })();\n",
              "      </script>\n",
              "    </div>\n",
              "\n",
              "    </div>\n",
              "  </div>\n"
            ],
            "application/vnd.google.colaboratory.intrinsic+json": {
              "type": "dataframe",
              "variable_name": "df_names",
              "summary": "{\n  \"name\": \"df_names\",\n  \"rows\": 294,\n  \"fields\": [\n    {\n      \"column\": \"subfamily\",\n      \"properties\": {\n        \"dtype\": \"category\",\n        \"num_unique_values\": 5,\n        \"samples\": [\n          \" Microhylidae\",\n          \" Toad\",\n          \" Myobatrachid\"\n        ],\n        \"semantic_type\": \"\",\n        \"description\": \"\"\n      }\n    },\n    {\n      \"column\": \"tribe\",\n      \"properties\": {\n        \"dtype\": \"category\",\n        \"num_unique_values\": 6,\n        \"samples\": [\n          \" Pelodryadidae\",\n          \" Asterophryninae\",\n          \" Bufonidae\"\n        ],\n        \"semantic_type\": \"\",\n        \"description\": \"\"\n      }\n    },\n    {\n      \"column\": \"scientificName\",\n      \"properties\": {\n        \"dtype\": \"string\",\n        \"num_unique_values\": 292,\n        \"samples\": [\n          \"Litoria rheocola\",\n          \"Uperoleia altissima\",\n          \"Litoria ewingii\"\n        ],\n        \"semantic_type\": \"\",\n        \"description\": \"\"\n      }\n    },\n    {\n      \"column\": \"commonName\",\n      \"properties\": {\n        \"dtype\": \"string\",\n        \"num_unique_values\": 283,\n        \"samples\": [\n          \"Little Collared Frog\",\n          \"Southern Dayfrog\",\n          \"Western Banjo Frog\"\n        ],\n        \"semantic_type\": \"\",\n        \"description\": \"\"\n      }\n    },\n    {\n      \"column\": \"secondary_commonNames\",\n      \"properties\": {\n        \"dtype\": \"category\",\n        \"num_unique_values\": 123,\n        \"samples\": [\n          \"Common Rock Frog, Sandstone Frog\",\n          \"Southern Laughing Tree Frog, Laughing Tree Frog\",\n          \"Watson\\u2019s Tree Frog\"\n        ],\n        \"semantic_type\": \"\",\n        \"description\": \"\"\n      }\n    }\n  ]\n}"
            }
          },
          "metadata": {},
          "execution_count": 14
        }
      ]
    },
    {
      "cell_type": "code",
      "source": [
        "df_names.tail()"
      ],
      "metadata": {
        "colab": {
          "base_uri": "https://localhost:8080/",
          "height": 206
        },
        "id": "YLyr3oXEA5Cw",
        "outputId": "97bbc124-68eb-467b-aa24-e3eeeef3acac"
      },
      "execution_count": 15,
      "outputs": [
        {
          "output_type": "execute_result",
          "data": {
            "text/plain": [
              "         subfamily            tribe    scientificName  \\\n",
              "289   Myobatrachid   Myobatrachidae  Uperoleia tyleri   \n",
              "290          Ranid          Ranidae          Papurana   \n",
              "291          Ranid          Ranidae  Papurana daemeli   \n",
              "292           Toad        Bufonidae          Rhinella   \n",
              "293           Toad        Bufonidae   Rhinella marina   \n",
              "\n",
              "                                   commonName secondary_commonNames  \n",
              "289                           Tyler’s Toadlet                     —  \n",
              "290  No widely used common name for the genus                     —  \n",
              "291                                 Wood Frog  Australian Wood Frog  \n",
              "292                      South American Toads                     —  \n",
              "293                                 Cane Toad                     —  "
            ],
            "text/html": [
              "\n",
              "  <div id=\"df-d7efbe57-3f2b-423b-933f-5b265eb14aba\" class=\"colab-df-container\">\n",
              "    <div>\n",
              "<style scoped>\n",
              "    .dataframe tbody tr th:only-of-type {\n",
              "        vertical-align: middle;\n",
              "    }\n",
              "\n",
              "    .dataframe tbody tr th {\n",
              "        vertical-align: top;\n",
              "    }\n",
              "\n",
              "    .dataframe thead th {\n",
              "        text-align: right;\n",
              "    }\n",
              "</style>\n",
              "<table border=\"1\" class=\"dataframe\">\n",
              "  <thead>\n",
              "    <tr style=\"text-align: right;\">\n",
              "      <th></th>\n",
              "      <th>subfamily</th>\n",
              "      <th>tribe</th>\n",
              "      <th>scientificName</th>\n",
              "      <th>commonName</th>\n",
              "      <th>secondary_commonNames</th>\n",
              "    </tr>\n",
              "  </thead>\n",
              "  <tbody>\n",
              "    <tr>\n",
              "      <th>289</th>\n",
              "      <td>Myobatrachid</td>\n",
              "      <td>Myobatrachidae</td>\n",
              "      <td>Uperoleia tyleri</td>\n",
              "      <td>Tyler’s Toadlet</td>\n",
              "      <td>—</td>\n",
              "    </tr>\n",
              "    <tr>\n",
              "      <th>290</th>\n",
              "      <td>Ranid</td>\n",
              "      <td>Ranidae</td>\n",
              "      <td>Papurana</td>\n",
              "      <td>No widely used common name for the genus</td>\n",
              "      <td>—</td>\n",
              "    </tr>\n",
              "    <tr>\n",
              "      <th>291</th>\n",
              "      <td>Ranid</td>\n",
              "      <td>Ranidae</td>\n",
              "      <td>Papurana daemeli</td>\n",
              "      <td>Wood Frog</td>\n",
              "      <td>Australian Wood Frog</td>\n",
              "    </tr>\n",
              "    <tr>\n",
              "      <th>292</th>\n",
              "      <td>Toad</td>\n",
              "      <td>Bufonidae</td>\n",
              "      <td>Rhinella</td>\n",
              "      <td>South American Toads</td>\n",
              "      <td>—</td>\n",
              "    </tr>\n",
              "    <tr>\n",
              "      <th>293</th>\n",
              "      <td>Toad</td>\n",
              "      <td>Bufonidae</td>\n",
              "      <td>Rhinella marina</td>\n",
              "      <td>Cane Toad</td>\n",
              "      <td>—</td>\n",
              "    </tr>\n",
              "  </tbody>\n",
              "</table>\n",
              "</div>\n",
              "    <div class=\"colab-df-buttons\">\n",
              "\n",
              "  <div class=\"colab-df-container\">\n",
              "    <button class=\"colab-df-convert\" onclick=\"convertToInteractive('df-d7efbe57-3f2b-423b-933f-5b265eb14aba')\"\n",
              "            title=\"Convert this dataframe to an interactive table.\"\n",
              "            style=\"display:none;\">\n",
              "\n",
              "  <svg xmlns=\"http://www.w3.org/2000/svg\" height=\"24px\" viewBox=\"0 -960 960 960\">\n",
              "    <path d=\"M120-120v-720h720v720H120Zm60-500h600v-160H180v160Zm220 220h160v-160H400v160Zm0 220h160v-160H400v160ZM180-400h160v-160H180v160Zm440 0h160v-160H620v160ZM180-180h160v-160H180v160Zm440 0h160v-160H620v160Z\"/>\n",
              "  </svg>\n",
              "    </button>\n",
              "\n",
              "  <style>\n",
              "    .colab-df-container {\n",
              "      display:flex;\n",
              "      gap: 12px;\n",
              "    }\n",
              "\n",
              "    .colab-df-convert {\n",
              "      background-color: #E8F0FE;\n",
              "      border: none;\n",
              "      border-radius: 50%;\n",
              "      cursor: pointer;\n",
              "      display: none;\n",
              "      fill: #1967D2;\n",
              "      height: 32px;\n",
              "      padding: 0 0 0 0;\n",
              "      width: 32px;\n",
              "    }\n",
              "\n",
              "    .colab-df-convert:hover {\n",
              "      background-color: #E2EBFA;\n",
              "      box-shadow: 0px 1px 2px rgba(60, 64, 67, 0.3), 0px 1px 3px 1px rgba(60, 64, 67, 0.15);\n",
              "      fill: #174EA6;\n",
              "    }\n",
              "\n",
              "    .colab-df-buttons div {\n",
              "      margin-bottom: 4px;\n",
              "    }\n",
              "\n",
              "    [theme=dark] .colab-df-convert {\n",
              "      background-color: #3B4455;\n",
              "      fill: #D2E3FC;\n",
              "    }\n",
              "\n",
              "    [theme=dark] .colab-df-convert:hover {\n",
              "      background-color: #434B5C;\n",
              "      box-shadow: 0px 1px 3px 1px rgba(0, 0, 0, 0.15);\n",
              "      filter: drop-shadow(0px 1px 2px rgba(0, 0, 0, 0.3));\n",
              "      fill: #FFFFFF;\n",
              "    }\n",
              "  </style>\n",
              "\n",
              "    <script>\n",
              "      const buttonEl =\n",
              "        document.querySelector('#df-d7efbe57-3f2b-423b-933f-5b265eb14aba button.colab-df-convert');\n",
              "      buttonEl.style.display =\n",
              "        google.colab.kernel.accessAllowed ? 'block' : 'none';\n",
              "\n",
              "      async function convertToInteractive(key) {\n",
              "        const element = document.querySelector('#df-d7efbe57-3f2b-423b-933f-5b265eb14aba');\n",
              "        const dataTable =\n",
              "          await google.colab.kernel.invokeFunction('convertToInteractive',\n",
              "                                                    [key], {});\n",
              "        if (!dataTable) return;\n",
              "\n",
              "        const docLinkHtml = 'Like what you see? Visit the ' +\n",
              "          '<a target=\"_blank\" href=https://colab.research.google.com/notebooks/data_table.ipynb>data table notebook</a>'\n",
              "          + ' to learn more about interactive tables.';\n",
              "        element.innerHTML = '';\n",
              "        dataTable['output_type'] = 'display_data';\n",
              "        await google.colab.output.renderOutput(dataTable, element);\n",
              "        const docLink = document.createElement('div');\n",
              "        docLink.innerHTML = docLinkHtml;\n",
              "        element.appendChild(docLink);\n",
              "      }\n",
              "    </script>\n",
              "  </div>\n",
              "\n",
              "\n",
              "    <div id=\"df-7280d9a2-bf8e-4ffb-80a0-9f1ea5f55879\">\n",
              "      <button class=\"colab-df-quickchart\" onclick=\"quickchart('df-7280d9a2-bf8e-4ffb-80a0-9f1ea5f55879')\"\n",
              "                title=\"Suggest charts\"\n",
              "                style=\"display:none;\">\n",
              "\n",
              "<svg xmlns=\"http://www.w3.org/2000/svg\" height=\"24px\"viewBox=\"0 0 24 24\"\n",
              "     width=\"24px\">\n",
              "    <g>\n",
              "        <path d=\"M19 3H5c-1.1 0-2 .9-2 2v14c0 1.1.9 2 2 2h14c1.1 0 2-.9 2-2V5c0-1.1-.9-2-2-2zM9 17H7v-7h2v7zm4 0h-2V7h2v10zm4 0h-2v-4h2v4z\"/>\n",
              "    </g>\n",
              "</svg>\n",
              "      </button>\n",
              "\n",
              "<style>\n",
              "  .colab-df-quickchart {\n",
              "      --bg-color: #E8F0FE;\n",
              "      --fill-color: #1967D2;\n",
              "      --hover-bg-color: #E2EBFA;\n",
              "      --hover-fill-color: #174EA6;\n",
              "      --disabled-fill-color: #AAA;\n",
              "      --disabled-bg-color: #DDD;\n",
              "  }\n",
              "\n",
              "  [theme=dark] .colab-df-quickchart {\n",
              "      --bg-color: #3B4455;\n",
              "      --fill-color: #D2E3FC;\n",
              "      --hover-bg-color: #434B5C;\n",
              "      --hover-fill-color: #FFFFFF;\n",
              "      --disabled-bg-color: #3B4455;\n",
              "      --disabled-fill-color: #666;\n",
              "  }\n",
              "\n",
              "  .colab-df-quickchart {\n",
              "    background-color: var(--bg-color);\n",
              "    border: none;\n",
              "    border-radius: 50%;\n",
              "    cursor: pointer;\n",
              "    display: none;\n",
              "    fill: var(--fill-color);\n",
              "    height: 32px;\n",
              "    padding: 0;\n",
              "    width: 32px;\n",
              "  }\n",
              "\n",
              "  .colab-df-quickchart:hover {\n",
              "    background-color: var(--hover-bg-color);\n",
              "    box-shadow: 0 1px 2px rgba(60, 64, 67, 0.3), 0 1px 3px 1px rgba(60, 64, 67, 0.15);\n",
              "    fill: var(--button-hover-fill-color);\n",
              "  }\n",
              "\n",
              "  .colab-df-quickchart-complete:disabled,\n",
              "  .colab-df-quickchart-complete:disabled:hover {\n",
              "    background-color: var(--disabled-bg-color);\n",
              "    fill: var(--disabled-fill-color);\n",
              "    box-shadow: none;\n",
              "  }\n",
              "\n",
              "  .colab-df-spinner {\n",
              "    border: 2px solid var(--fill-color);\n",
              "    border-color: transparent;\n",
              "    border-bottom-color: var(--fill-color);\n",
              "    animation:\n",
              "      spin 1s steps(1) infinite;\n",
              "  }\n",
              "\n",
              "  @keyframes spin {\n",
              "    0% {\n",
              "      border-color: transparent;\n",
              "      border-bottom-color: var(--fill-color);\n",
              "      border-left-color: var(--fill-color);\n",
              "    }\n",
              "    20% {\n",
              "      border-color: transparent;\n",
              "      border-left-color: var(--fill-color);\n",
              "      border-top-color: var(--fill-color);\n",
              "    }\n",
              "    30% {\n",
              "      border-color: transparent;\n",
              "      border-left-color: var(--fill-color);\n",
              "      border-top-color: var(--fill-color);\n",
              "      border-right-color: var(--fill-color);\n",
              "    }\n",
              "    40% {\n",
              "      border-color: transparent;\n",
              "      border-right-color: var(--fill-color);\n",
              "      border-top-color: var(--fill-color);\n",
              "    }\n",
              "    60% {\n",
              "      border-color: transparent;\n",
              "      border-right-color: var(--fill-color);\n",
              "    }\n",
              "    80% {\n",
              "      border-color: transparent;\n",
              "      border-right-color: var(--fill-color);\n",
              "      border-bottom-color: var(--fill-color);\n",
              "    }\n",
              "    90% {\n",
              "      border-color: transparent;\n",
              "      border-bottom-color: var(--fill-color);\n",
              "    }\n",
              "  }\n",
              "</style>\n",
              "\n",
              "      <script>\n",
              "        async function quickchart(key) {\n",
              "          const quickchartButtonEl =\n",
              "            document.querySelector('#' + key + ' button');\n",
              "          quickchartButtonEl.disabled = true;  // To prevent multiple clicks.\n",
              "          quickchartButtonEl.classList.add('colab-df-spinner');\n",
              "          try {\n",
              "            const charts = await google.colab.kernel.invokeFunction(\n",
              "                'suggestCharts', [key], {});\n",
              "          } catch (error) {\n",
              "            console.error('Error during call to suggestCharts:', error);\n",
              "          }\n",
              "          quickchartButtonEl.classList.remove('colab-df-spinner');\n",
              "          quickchartButtonEl.classList.add('colab-df-quickchart-complete');\n",
              "        }\n",
              "        (() => {\n",
              "          let quickchartButtonEl =\n",
              "            document.querySelector('#df-7280d9a2-bf8e-4ffb-80a0-9f1ea5f55879 button');\n",
              "          quickchartButtonEl.style.display =\n",
              "            google.colab.kernel.accessAllowed ? 'block' : 'none';\n",
              "        })();\n",
              "      </script>\n",
              "    </div>\n",
              "\n",
              "    </div>\n",
              "  </div>\n"
            ],
            "application/vnd.google.colaboratory.intrinsic+json": {
              "type": "dataframe",
              "summary": "{\n  \"name\": \"df_names\",\n  \"rows\": 5,\n  \"fields\": [\n    {\n      \"column\": \"subfamily\",\n      \"properties\": {\n        \"dtype\": \"string\",\n        \"num_unique_values\": 3,\n        \"samples\": [\n          \" Myobatrachid\",\n          \" Ranid\",\n          \" Toad\"\n        ],\n        \"semantic_type\": \"\",\n        \"description\": \"\"\n      }\n    },\n    {\n      \"column\": \"tribe\",\n      \"properties\": {\n        \"dtype\": \"string\",\n        \"num_unique_values\": 3,\n        \"samples\": [\n          \" Myobatrachidae\",\n          \" Ranidae\",\n          \" Bufonidae\"\n        ],\n        \"semantic_type\": \"\",\n        \"description\": \"\"\n      }\n    },\n    {\n      \"column\": \"scientificName\",\n      \"properties\": {\n        \"dtype\": \"string\",\n        \"num_unique_values\": 5,\n        \"samples\": [\n          \"Papurana\",\n          \"Rhinella marina\",\n          \"Papurana daemeli\"\n        ],\n        \"semantic_type\": \"\",\n        \"description\": \"\"\n      }\n    },\n    {\n      \"column\": \"commonName\",\n      \"properties\": {\n        \"dtype\": \"string\",\n        \"num_unique_values\": 5,\n        \"samples\": [\n          \"No widely used common name for the genus\",\n          \"Cane Toad\",\n          \"Wood Frog\"\n        ],\n        \"semantic_type\": \"\",\n        \"description\": \"\"\n      }\n    },\n    {\n      \"column\": \"secondary_commonNames\",\n      \"properties\": {\n        \"dtype\": \"category\",\n        \"num_unique_values\": 2,\n        \"samples\": [\n          \"Australian Wood Frog\",\n          \"\\u2014\"\n        ],\n        \"semantic_type\": \"\",\n        \"description\": \"\"\n      }\n    }\n  ]\n}"
            }
          },
          "metadata": {},
          "execution_count": 15
        }
      ]
    },
    {
      "cell_type": "markdown",
      "source": [
        "## **2. Cleaning Data**"
      ],
      "metadata": {
        "id": "ki18t8CznaU3"
      }
    },
    {
      "cell_type": "markdown",
      "source": [
        "### **2.1 Cleaning ID Data**"
      ],
      "metadata": {
        "id": "CBc-vK4Knhzq"
      }
    },
    {
      "cell_type": "markdown",
      "source": [
        "Let's create a copy of the dataset to avoid overwriting the original"
      ],
      "metadata": {
        "id": "LJmsWP_T8fv9"
      }
    },
    {
      "cell_type": "code",
      "source": [
        "df_id_cleaning = df_id.copy()"
      ],
      "metadata": {
        "id": "s_XgyYc1ntYd"
      },
      "execution_count": 16,
      "outputs": []
    },
    {
      "cell_type": "markdown",
      "source": [
        "Rename the columns to snake case format ( i prefer to work with snake_case format )"
      ],
      "metadata": {
        "id": "X_objbR78kWx"
      }
    },
    {
      "cell_type": "code",
      "source": [
        "df_id_cleaning.rename(columns={\n",
        "    'occurrenceID': 'occurrence_id',\n",
        "    'eventID': 'event_id',\n",
        "    'decimalLatitude': 'latitude',\n",
        "    'decimalLongitude': 'longitude',\n",
        "    'scientificName': 'scientific_name',\n",
        "    'eventDate': 'date',\n",
        "    'eventTime': 'time',\n",
        "    'timezone': 'time_zone',\n",
        "    'coordinateUncertaintyInMeters': 'coord_uncertainty_m',\n",
        "    'recordedBy': 'recorded_by',\n",
        "    'stateProvince': 'state_province'\n",
        "}, inplace=True)"
      ],
      "metadata": {
        "id": "c7vofesOk_ar"
      },
      "execution_count": 17,
      "outputs": []
    },
    {
      "cell_type": "code",
      "source": [
        "df_id_cleaning.info()"
      ],
      "metadata": {
        "colab": {
          "base_uri": "https://localhost:8080/"
        },
        "id": "CJvMcs-Ungzx",
        "outputId": "8b3ca3d1-6c0e-48e8-8861-936d61d4403e"
      },
      "execution_count": 18,
      "outputs": [
        {
          "output_type": "stream",
          "name": "stdout",
          "text": [
            "<class 'pandas.core.frame.DataFrame'>\n",
            "RangeIndex: 136621 entries, 0 to 136620\n",
            "Data columns (total 11 columns):\n",
            " #   Column               Non-Null Count   Dtype  \n",
            "---  ------               --------------   -----  \n",
            " 0   occurrence_id        136621 non-null  int64  \n",
            " 1   event_id             136621 non-null  int64  \n",
            " 2   latitude             136621 non-null  float64\n",
            " 3   longitude            136621 non-null  float64\n",
            " 4   scientific_name      136621 non-null  object \n",
            " 5   date                 136621 non-null  object \n",
            " 6   time                 136621 non-null  object \n",
            " 7   time_zone            136621 non-null  object \n",
            " 8   coord_uncertainty_m  136621 non-null  float64\n",
            " 9   recorded_by          136621 non-null  int64  \n",
            " 10  state_province       136621 non-null  object \n",
            "dtypes: float64(3), int64(3), object(5)\n",
            "memory usage: 11.5+ MB\n"
          ]
        }
      ]
    },
    {
      "cell_type": "markdown",
      "source": [
        "We have our date, time, time_zone data, i think the best way is to store these would be in a single column which will be standartized to UTC format.  "
      ],
      "metadata": {
        "id": "bPrgRUfD8sxc"
      }
    },
    {
      "cell_type": "code",
      "source": [
        "df_id_cleaning['datetime'] = pd.to_datetime(df_id_cleaning['date'] + ' ' + df_id_cleaning['time'] + ' ' + df_id_cleaning['time_zone'], format='mixed', utc=True)"
      ],
      "metadata": {
        "id": "jDoMZXo4oRkH"
      },
      "execution_count": 19,
      "outputs": []
    },
    {
      "cell_type": "code",
      "source": [
        "df_id_cleaning = df_id_cleaning.drop(columns=['date', 'time', 'time_zone'])"
      ],
      "metadata": {
        "id": "_-oi7-gsoW25"
      },
      "execution_count": 20,
      "outputs": []
    },
    {
      "cell_type": "markdown",
      "source": [
        "Lets look at our data types, we have scientific_name and state_province columns which store repeating values. This is best suitable for the category data type."
      ],
      "metadata": {
        "id": "i73gpqbe9iIT"
      }
    },
    {
      "cell_type": "code",
      "source": [
        "print(f\"There are currently {len(df_id_cleaning['scientific_name'].unique())} unique scientific_name values, and {len(df_id_cleaning['state_province'].unique())} unique state_province values. Making this an idea candidate for converting to category data\")"
      ],
      "metadata": {
        "colab": {
          "base_uri": "https://localhost:8080/"
        },
        "id": "z3dxPykt1BM4",
        "outputId": "3fb02066-099c-47c8-bb4b-15eb319155b9"
      },
      "execution_count": 21,
      "outputs": [
        {
          "output_type": "stream",
          "name": "stdout",
          "text": [
            "There are currently 186 unique scientific_name values, and 9 unique state_province values. Making this an idea candidate for converting to category data\n"
          ]
        }
      ]
    },
    {
      "cell_type": "code",
      "source": [
        "columns_to_convert = ['scientific_name', 'state_province']\n",
        "\n",
        "# Convert the specified columns to 'Category'\n",
        "for col in columns_to_convert:\n",
        "    df_id_cleaning[col] = df_id_cleaning[col].astype('category')"
      ],
      "metadata": {
        "id": "RJMyDI2u02WZ"
      },
      "execution_count": 22,
      "outputs": []
    },
    {
      "cell_type": "markdown",
      "source": [
        "We have occurance_id, event_id and record_by columns which store numerical values and currently are set to int64. Lets try to optimise these by checking maximum value in these columns as possibly we are able to convert these in to int32 or even int16 if we can. Int16 maximum value: 32767, int32 maximum value: 2,147,483,647, int64 maximum value: 9,223,372,036,854,775,807"
      ],
      "metadata": {
        "id": "k4N5jELT9ulm"
      }
    },
    {
      "cell_type": "code",
      "source": [
        "print(f\"Max value in occurance_id: {df_id_cleaning['occurrence_id'].max()}, Max value in event_id: {df_id_cleaning['event_id'].max()}, Max value in recorded_by: {df_id_cleaning['recorded_by'].max()}, which it makes it ideal for int32 datatype instead of int64.\")"
      ],
      "metadata": {
        "colab": {
          "base_uri": "https://localhost:8080/"
        },
        "id": "ouoFos3s144X",
        "outputId": "6bb6c36e-7a3c-4afd-e58e-937a6b97607e"
      },
      "execution_count": 23,
      "outputs": [
        {
          "output_type": "stream",
          "name": "stdout",
          "text": [
            "Max value in occurance_id: 974119, Max value in event_id: 820480, Max value in recorded_by: 862132, which it makes it ideal for int32 datatype instead of int64.\n"
          ]
        }
      ]
    },
    {
      "cell_type": "code",
      "source": [
        "columns_to_convert = ['occurrence_id', 'event_id', 'recorded_by']\n",
        "\n",
        "# Convert the specified columns to 'int32'\n",
        "for col in columns_to_convert:\n",
        "    df_id_cleaning[col] = df_id_cleaning[col].astype('int32')"
      ],
      "metadata": {
        "id": "kgIQjDVl0vzy"
      },
      "execution_count": 24,
      "outputs": []
    },
    {
      "cell_type": "code",
      "source": [
        "df_id_cleaning.info()"
      ],
      "metadata": {
        "colab": {
          "base_uri": "https://localhost:8080/"
        },
        "id": "yB7IsC-yz4dK",
        "outputId": "e3420a5c-1516-4d41-c291-8e4acfc6907e"
      },
      "execution_count": 25,
      "outputs": [
        {
          "output_type": "stream",
          "name": "stdout",
          "text": [
            "<class 'pandas.core.frame.DataFrame'>\n",
            "RangeIndex: 136621 entries, 0 to 136620\n",
            "Data columns (total 9 columns):\n",
            " #   Column               Non-Null Count   Dtype              \n",
            "---  ------               --------------   -----              \n",
            " 0   occurrence_id        136621 non-null  int32              \n",
            " 1   event_id             136621 non-null  int32              \n",
            " 2   latitude             136621 non-null  float64            \n",
            " 3   longitude            136621 non-null  float64            \n",
            " 4   scientific_name      136621 non-null  category           \n",
            " 5   coord_uncertainty_m  136621 non-null  float64            \n",
            " 6   recorded_by          136621 non-null  int32              \n",
            " 7   state_province       136621 non-null  category           \n",
            " 8   datetime             136621 non-null  datetime64[ns, UTC]\n",
            "dtypes: category(2), datetime64[ns, UTC](1), float64(3), int32(3)\n",
            "memory usage: 6.1 MB\n"
          ]
        }
      ]
    },
    {
      "cell_type": "markdown",
      "source": [
        "Finally lets save our preprocessed and cleaned data as df_final to be later improted in to power bi."
      ],
      "metadata": {
        "id": "54tgKhpk-lzn"
      }
    },
    {
      "cell_type": "code",
      "source": [
        "df_id_final = df_id_cleaning.copy()"
      ],
      "metadata": {
        "id": "m7nvWSTr3JyX"
      },
      "execution_count": 26,
      "outputs": []
    },
    {
      "cell_type": "markdown",
      "source": [
        "### **2.1 Cleaning Name Data**"
      ],
      "metadata": {
        "id": "QR5wjkNf7B-1"
      }
    },
    {
      "cell_type": "markdown",
      "source": [
        "Let's create a copy of the dataset to avoid overwriting the original"
      ],
      "metadata": {
        "id": "J5jsc0JH-0zK"
      }
    },
    {
      "cell_type": "code",
      "source": [
        "df_names_cleaning = df_names.copy()"
      ],
      "metadata": {
        "id": "WbJ3_J6N7uGy"
      },
      "execution_count": 27,
      "outputs": []
    },
    {
      "cell_type": "markdown",
      "source": [
        "Rename our columns to snake case"
      ],
      "metadata": {
        "id": "Dtv8NExQ-1ra"
      }
    },
    {
      "cell_type": "code",
      "source": [
        "df_names_cleaning.rename(columns={\n",
        "   'subfamily': 'sub_family',\n",
        "    'scientificName': 'scientific_name',\n",
        "    'commonName': 'common_name',\n",
        "    'secondary_commonNames': 'secondary_common_names'\n",
        "}, inplace=True)"
      ],
      "metadata": {
        "id": "Ws_sCmJe7ygL"
      },
      "execution_count": 28,
      "outputs": []
    },
    {
      "cell_type": "markdown",
      "source": [
        "Previously when exploring the data we identified that the data has 1 record with missing values. Let's take a look at it."
      ],
      "metadata": {
        "id": "7Q3IBUFP-39L"
      }
    },
    {
      "cell_type": "code",
      "source": [
        "print(df_names_cleaning[df_names_cleaning['scientific_name'].isna()])"
      ],
      "metadata": {
        "colab": {
          "base_uri": "https://localhost:8080/"
        },
        "id": "Dh4rAmhP8NdL",
        "outputId": "da642e79-a017-49b2-d89d-5a9c41f6713b"
      },
      "execution_count": 29,
      "outputs": [
        {
          "output_type": "stream",
          "name": "stdout",
          "text": [
            "    sub_family           tribe scientific_name common_name  \\\n",
            "103      Hylid   Pelodryadidae             NaN           —   \n",
            "\n",
            "    secondary_common_names  \n",
            "103                      —  \n"
          ]
        }
      ]
    },
    {
      "cell_type": "markdown",
      "source": [
        "Unfortunately the missing data will have no value to us, as two dataset will be connected to each other using scientific_name column, we will drop this one record from the dataset"
      ],
      "metadata": {
        "id": "cxuuaQTc_Ai2"
      }
    },
    {
      "cell_type": "code",
      "source": [
        "df_names_cleaning = df_names_cleaning.dropna()"
      ],
      "metadata": {
        "id": "Hcoy0Oci8SMc"
      },
      "execution_count": 30,
      "outputs": []
    },
    {
      "cell_type": "code",
      "source": [
        "df_names_cleaning.info()"
      ],
      "metadata": {
        "colab": {
          "base_uri": "https://localhost:8080/"
        },
        "id": "iC_zzmtg7FWP",
        "outputId": "06a1c42b-22a1-4e11-e105-225ae50158c5"
      },
      "execution_count": 31,
      "outputs": [
        {
          "output_type": "stream",
          "name": "stdout",
          "text": [
            "<class 'pandas.core.frame.DataFrame'>\n",
            "Index: 293 entries, 0 to 293\n",
            "Data columns (total 5 columns):\n",
            " #   Column                  Non-Null Count  Dtype \n",
            "---  ------                  --------------  ----- \n",
            " 0   sub_family              293 non-null    object\n",
            " 1   tribe                   293 non-null    object\n",
            " 2   scientific_name         293 non-null    object\n",
            " 3   common_name             293 non-null    object\n",
            " 4   secondary_common_names  293 non-null    object\n",
            "dtypes: object(5)\n",
            "memory usage: 13.7+ KB\n"
          ]
        }
      ]
    },
    {
      "cell_type": "markdown",
      "source": [
        "Lets also convert sub_family and tribe to category type as these most likely repeating values."
      ],
      "metadata": {
        "id": "KzSKIIlUC8G9"
      }
    },
    {
      "cell_type": "code",
      "source": [
        "df_names_cleaning['sub_family'].unique()"
      ],
      "metadata": {
        "colab": {
          "base_uri": "https://localhost:8080/"
        },
        "id": "V1Tjoky0Crvq",
        "outputId": "942915a3-0e4f-4619-d591-ae46c92b4269"
      },
      "execution_count": 32,
      "outputs": [
        {
          "output_type": "execute_result",
          "data": {
            "text/plain": [
              "array([' Hylid', ' Microhylidae', ' Myobatrachid', ' Ranid', ' Toad'],\n",
              "      dtype=object)"
            ]
          },
          "metadata": {},
          "execution_count": 32
        }
      ]
    },
    {
      "cell_type": "code",
      "source": [
        "df_names_cleaning['tribe'].unique()"
      ],
      "metadata": {
        "colab": {
          "base_uri": "https://localhost:8080/"
        },
        "id": "12CBnJzgC0Pr",
        "outputId": "eb2fb14a-78c4-43ce-8bd3-2cf41020e903"
      },
      "execution_count": 33,
      "outputs": [
        {
          "output_type": "execute_result",
          "data": {
            "text/plain": [
              "array([' Pelodryadidae', ' Asterophryninae', ' Limnodynastidae',\n",
              "       ' Myobatrachidae', ' Ranidae', ' Bufonidae'], dtype=object)"
            ]
          },
          "metadata": {},
          "execution_count": 33
        }
      ]
    },
    {
      "cell_type": "markdown",
      "source": [
        "Secondary column names contains entries with '-' symbol. I would like to replace these with None instead"
      ],
      "metadata": {
        "id": "_zq6bVKFQyLq"
      }
    },
    {
      "cell_type": "code",
      "source": [
        "df_names_cleaning['secondary_common_names'] = df_names_cleaning['secondary_common_names'].replace('—', np.nan)\n"
      ],
      "metadata": {
        "id": "fLE9zgnrQxZy"
      },
      "execution_count": 34,
      "outputs": []
    },
    {
      "cell_type": "code",
      "source": [
        "df_names_cleaning['common_name'] = df_names_cleaning['secondary_common_names'].replace('—', np.nan)"
      ],
      "metadata": {
        "id": "5Chvih_AWdPL"
      },
      "execution_count": 35,
      "outputs": []
    },
    {
      "cell_type": "code",
      "source": [
        "columns_to_convert = ['sub_family', 'tribe']\n",
        "\n",
        "# Convert the specified columns to 'Category'\n",
        "for col in columns_to_convert:\n",
        "    df_names_cleaning[col] = df_names_cleaning[col].astype('category')"
      ],
      "metadata": {
        "id": "olSWClSYDGox"
      },
      "execution_count": 36,
      "outputs": []
    },
    {
      "cell_type": "markdown",
      "source": [
        "Finally lets save our cleaned data in to csv file to be used in power bi dashboard."
      ],
      "metadata": {
        "id": "jtcWeoEI_gIm"
      }
    },
    {
      "cell_type": "code",
      "source": [
        "df_names_final = df_names_cleaning.copy()"
      ],
      "metadata": {
        "id": "lhA4GuQR_cZe"
      },
      "execution_count": 37,
      "outputs": []
    },
    {
      "cell_type": "markdown",
      "source": [
        "## 3. **Exporting Data to be used in Power BI Dashboard**"
      ],
      "metadata": {
        "id": "T5XcwGG-EIAk"
      }
    },
    {
      "cell_type": "markdown",
      "source": [
        "### **3.1 ID dataset**"
      ],
      "metadata": {
        "id": "maGeNLW3EUiW"
      }
    },
    {
      "cell_type": "code",
      "source": [
        "output_filename = \"df_id_final.csv\"\n",
        "df_id_final.to_csv(output_filename, index=False)"
      ],
      "metadata": {
        "id": "KkhvEnmqEREt"
      },
      "execution_count": 38,
      "outputs": []
    },
    {
      "cell_type": "markdown",
      "source": [
        "### **3.2 Names dataset**"
      ],
      "metadata": {
        "id": "4kG1tfsgEXB_"
      }
    },
    {
      "cell_type": "code",
      "source": [
        "output_filename = \"df_names_final.csv\"\n",
        "df_names_final.to_csv(output_filename, index=False)"
      ],
      "metadata": {
        "id": "yvEXfTBSEPNV"
      },
      "execution_count": 39,
      "outputs": []
    }
  ]
}